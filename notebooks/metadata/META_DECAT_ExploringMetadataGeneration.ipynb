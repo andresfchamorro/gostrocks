{
 "cells": [
  {
   "cell_type": "code",
   "execution_count": 1,
   "metadata": {},
   "outputs": [
    {
     "name": "stdout",
     "output_type": "stream",
     "text": [
      "Could not import arcgis libraries\n"
     ]
    }
   ],
   "source": [
    "import sys, os, importlib\n",
    "import rasterio\n",
    "\n",
    "import geopandas as gpd\n",
    "import pandas as pd\n",
    "\n",
    "sys.path.insert(0, \"../../src\")\n",
    "\n",
    "import GOSTRocks.metadataMisc as meta"
   ]
  },
  {
   "cell_type": "code",
   "execution_count": 14,
   "metadata": {},
   "outputs": [
    {
     "name": "stderr",
     "output_type": "stream",
     "text": [
      "ERROR:root:Cannot log /home/wb411133/temp/UKR/SHIFTED_MAPS/SHIFTED_20220101_20220129_rad.tif\n",
      "ERROR:root:Cannot log /home/wb411133/temp/UKR/SHIFTED_MAPS/SHIFTED_20220108_20220205_rad.tif\n",
      "ERROR:root:Cannot log /home/wb411133/temp/UKR/SHIFTED_MAPS/SHIFTED_20220115_20220212_rad.tif\n",
      "ERROR:root:Cannot log /home/wb411133/temp/UKR/SHIFTED_MAPS/SHIFTED_20220122_20220219_rad.tif\n",
      "ERROR:root:Cannot log /home/wb411133/temp/UKR/SHIFTED_MAPS/SHIFTED_20220129_20220226_rad.tif\n",
      "ERROR:root:Cannot log /home/wb411133/temp/UKR/SHIFTED_MAPS/SHIFTED_20220205_20220305_rad.tif\n",
      "ERROR:root:Cannot log /home/wb411133/temp/UKR/SHIFTED_MAPS/SHIFTED_20220212_20220312_rad.tif\n"
     ]
    },
    {
     "name": "stdout",
     "output_type": "stream",
     "text": [
      "Could not import arcgis libraries\n"
     ]
    }
   ],
   "source": [
    "importlib.reload(meta)\n",
    "in_folder = \"/home/wb411133/temp/UKR\"\n",
    "\n",
    "make_meta = meta.metadata_gost(in_folder, os.path.join(in_folder, \"METADATA\"))\n",
    "layers = make_meta.get_layers()\n",
    "metadata = make_meta.generate_metadata()\n"
   ]
  },
  {
   "cell_type": "code",
   "execution_count": 16,
   "metadata": {},
   "outputs": [
    {
     "data": {
      "text/html": [
       "<div>\n",
       "<style scoped>\n",
       "    .dataframe tbody tr th:only-of-type {\n",
       "        vertical-align: middle;\n",
       "    }\n",
       "\n",
       "    .dataframe tbody tr th {\n",
       "        vertical-align: top;\n",
       "    }\n",
       "\n",
       "    .dataframe thead th {\n",
       "        text-align: right;\n",
       "    }\n",
       "</style>\n",
       "<table border=\"1\" class=\"dataframe\">\n",
       "  <thead>\n",
       "    <tr style=\"text-align: right;\">\n",
       "      <th></th>\n",
       "      <th>layer_name</th>\n",
       "      <th>data_type</th>\n",
       "      <th>crs_name</th>\n",
       "      <th>crs_code</th>\n",
       "      <th>num_dimensions</th>\n",
       "      <th>min_lon</th>\n",
       "      <th>max_lon</th>\n",
       "      <th>min_lat</th>\n",
       "      <th>max_lat</th>\n",
       "      <th>raster_width</th>\n",
       "      <th>raster_height</th>\n",
       "      <th>raster_res</th>\n",
       "      <th>layer_label</th>\n",
       "      <th>description</th>\n",
       "      <th>source_name</th>\n",
       "      <th>source_url</th>\n",
       "      <th>data_process_summary</th>\n",
       "    </tr>\n",
       "  </thead>\n",
       "  <tbody>\n",
       "    <tr>\n",
       "      <th>0</th>\n",
       "      <td>UKR_2022-03-01_2022-03-14_rad</td>\n",
       "      <td>Raster</td>\n",
       "      <td>WGS 84</td>\n",
       "      <td>4326</td>\n",
       "      <td>1</td>\n",
       "      <td>20.087086</td>\n",
       "      <td>42.07919</td>\n",
       "      <td>43.295512</td>\n",
       "      <td>54.334987</td>\n",
       "      <td>2650</td>\n",
       "      <td>5279</td>\n",
       "      <td>0.004166</td>\n",
       "      <td></td>\n",
       "      <td></td>\n",
       "      <td></td>\n",
       "      <td></td>\n",
       "      <td></td>\n",
       "    </tr>\n",
       "    <tr>\n",
       "      <th>1</th>\n",
       "      <td>UKR_2022-03-01_2022-03-14_count</td>\n",
       "      <td>Raster</td>\n",
       "      <td>WGS 84</td>\n",
       "      <td>4326</td>\n",
       "      <td>1</td>\n",
       "      <td>20.087086</td>\n",
       "      <td>42.07919</td>\n",
       "      <td>43.295512</td>\n",
       "      <td>54.334987</td>\n",
       "      <td>2650</td>\n",
       "      <td>5279</td>\n",
       "      <td>0.004166</td>\n",
       "      <td></td>\n",
       "      <td></td>\n",
       "      <td></td>\n",
       "      <td></td>\n",
       "      <td></td>\n",
       "    </tr>\n",
       "    <tr>\n",
       "      <th>2</th>\n",
       "      <td>UKR_2022-01-01_2022-03-14_rad</td>\n",
       "      <td>Raster</td>\n",
       "      <td>WGS 84</td>\n",
       "      <td>4326</td>\n",
       "      <td>1</td>\n",
       "      <td>20.087086</td>\n",
       "      <td>42.07919</td>\n",
       "      <td>43.295512</td>\n",
       "      <td>54.334987</td>\n",
       "      <td>2650</td>\n",
       "      <td>5279</td>\n",
       "      <td>0.004166</td>\n",
       "      <td></td>\n",
       "      <td></td>\n",
       "      <td></td>\n",
       "      <td></td>\n",
       "      <td></td>\n",
       "    </tr>\n",
       "    <tr>\n",
       "      <th>3</th>\n",
       "      <td>UKR_2022-01-01_2022-03-14_count</td>\n",
       "      <td>Raster</td>\n",
       "      <td>WGS 84</td>\n",
       "      <td>4326</td>\n",
       "      <td>1</td>\n",
       "      <td>20.087086</td>\n",
       "      <td>42.07919</td>\n",
       "      <td>43.295512</td>\n",
       "      <td>54.334987</td>\n",
       "      <td>2650</td>\n",
       "      <td>5279</td>\n",
       "      <td>0.004166</td>\n",
       "      <td></td>\n",
       "      <td></td>\n",
       "      <td></td>\n",
       "      <td></td>\n",
       "      <td></td>\n",
       "    </tr>\n",
       "    <tr>\n",
       "      <th>4</th>\n",
       "      <td>VIIRS_change</td>\n",
       "      <td>Raster</td>\n",
       "      <td>WGS 84</td>\n",
       "      <td>4326</td>\n",
       "      <td>1</td>\n",
       "      <td>20.087086</td>\n",
       "      <td>42.07919</td>\n",
       "      <td>43.295512</td>\n",
       "      <td>54.334987</td>\n",
       "      <td>2650</td>\n",
       "      <td>5279</td>\n",
       "      <td>0.004166</td>\n",
       "      <td></td>\n",
       "      <td></td>\n",
       "      <td></td>\n",
       "      <td></td>\n",
       "      <td></td>\n",
       "    </tr>\n",
       "  </tbody>\n",
       "</table>\n",
       "</div>"
      ],
      "text/plain": [
       "                        layer_name data_type crs_name  crs_code  \\\n",
       "0    UKR_2022-03-01_2022-03-14_rad    Raster   WGS 84      4326   \n",
       "1  UKR_2022-03-01_2022-03-14_count    Raster   WGS 84      4326   \n",
       "2    UKR_2022-01-01_2022-03-14_rad    Raster   WGS 84      4326   \n",
       "3  UKR_2022-01-01_2022-03-14_count    Raster   WGS 84      4326   \n",
       "4                     VIIRS_change    Raster   WGS 84      4326   \n",
       "\n",
       "   num_dimensions    min_lon   max_lon    min_lat    max_lat  raster_width  \\\n",
       "0               1  20.087086  42.07919  43.295512  54.334987          2650   \n",
       "1               1  20.087086  42.07919  43.295512  54.334987          2650   \n",
       "2               1  20.087086  42.07919  43.295512  54.334987          2650   \n",
       "3               1  20.087086  42.07919  43.295512  54.334987          2650   \n",
       "4               1  20.087086  42.07919  43.295512  54.334987          2650   \n",
       "\n",
       "   raster_height  raster_res layer_label description source_name source_url  \\\n",
       "0           5279    0.004166                                                  \n",
       "1           5279    0.004166                                                  \n",
       "2           5279    0.004166                                                  \n",
       "3           5279    0.004166                                                  \n",
       "4           5279    0.004166                                                  \n",
       "\n",
       "  data_process_summary  \n",
       "0                       \n",
       "1                       \n",
       "2                       \n",
       "3                       \n",
       "4                       "
      ]
     },
     "execution_count": 16,
     "metadata": {},
     "output_type": "execute_result"
    }
   ],
   "source": [
    "# Make changes to the metadata table here, if you want; changes can be made to resulting xls file later\n",
    "metadata['metadata'].head()"
   ]
  },
  {
   "cell_type": "code",
   "execution_count": 17,
   "metadata": {},
   "outputs": [],
   "source": [
    "make_meta.write_metadata?"
   ]
  },
  {
   "cell_type": "code",
   "execution_count": null,
   "metadata": {},
   "outputs": [],
   "source": [
    "make_meta.write_metadata(os.path.join(in_folder, \"METADATA\", 'metadata.xlsx'), layer_metadata = metadata['metadata'])"
   ]
  }
 ],
 "metadata": {
  "kernelspec": {
   "display_name": "Earth Engine",
   "language": "python",
   "name": "ee"
  },
  "language_info": {
   "codemirror_mode": {
    "name": "ipython",
    "version": 3
   },
   "file_extension": ".py",
   "mimetype": "text/x-python",
   "name": "python",
   "nbconvert_exporter": "python",
   "pygments_lexer": "ipython3",
   "version": "3.9.4"
  }
 },
 "nbformat": 4,
 "nbformat_minor": 2
}
