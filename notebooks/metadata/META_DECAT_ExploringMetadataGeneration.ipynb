{
 "cells": [
  {
   "cell_type": "code",
   "execution_count": 1,
   "metadata": {},
   "outputs": [
    {
     "name": "stdout",
     "output_type": "stream",
     "text": [
      "Could not import arcgis libraries\n"
     ]
    }
   ],
   "source": [
    "import sys, os, importlib\n",
    "import rasterio\n",
    "\n",
    "import geopandas as gpd\n",
    "import pandas as pd\n",
    "\n",
    "sys.path.insert(0, \"../../src\")\n",
    "\n",
    "import GOSTRocks.metadataMisc as meta"
   ]
  },
  {
   "cell_type": "code",
   "execution_count": 23,
   "metadata": {},
   "outputs": [
    {
     "name": "stdout",
     "output_type": "stream",
     "text": [
      "Could not import arcgis libraries\n"
     ]
    }
   ],
   "source": [
    "importlib.reload(meta)\n",
    "in_folder = \"/home/wb411133/data/Projects/FDP_Geospatial/AOI/CHAD\"\n",
    "\n",
    "make_meta = meta.metadata_gost(in_folder, os.path.join(in_folder, \"METADATA\"))\n",
    "layers = make_meta.get_layers()\n",
    "metadata = make_meta.generate_metadata()\n",
    "make_meta.write_metadata(os.path.join(in_folder, \"METADATA\", 'metadata.xlsx'))"
   ]
  },
  {
   "cell_type": "code",
   "execution_count": 20,
   "metadata": {},
   "outputs": [],
   "source": []
  },
  {
   "cell_type": "code",
   "execution_count": null,
   "metadata": {},
   "outputs": [],
   "source": []
  }
 ],
 "metadata": {
  "kernelspec": {
   "display_name": "Earth Engine",
   "language": "python",
   "name": "ee"
  },
  "language_info": {
   "codemirror_mode": {
    "name": "ipython",
    "version": 3
   },
   "file_extension": ".py",
   "mimetype": "text/x-python",
   "name": "python",
   "nbconvert_exporter": "python",
   "pygments_lexer": "ipython3",
   "version": "3.9.4"
  }
 },
 "nbformat": 4,
 "nbformat_minor": 2
}
