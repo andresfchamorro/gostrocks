{
 "cells": [
  {
   "cell_type": "markdown",
   "metadata": {},
   "source": [
    "# Data exploration\n",
    "\n",
    "## Author\n",
    "- Kamwoo Lee (klee16@worldbank.org)\n",
    "\n",
    "## Contents\n",
    "\n",
    "1. [Reuired packages](#required_packages)\n",
    "2. [Data](#data)\n",
    "    - 2.1. Files and layers in directory\n",
    "    - 2.2. Layer summaries\n",
    "3. [Visualizations](#visualizations)"
   ]
  },
  {
   "cell_type": "markdown",
   "metadata": {},
   "source": [
    "# 1. Required packages <a name=\"required_packages\"></a>\n",
    "\n",
    "The required packages should be installed AFTER cloning arcgispro-py3 which is a conda environment that comes with ArcGIS Pro.\n",
    "* arcgispro-py3 (including arcpy) is dependent on python=3.6\n",
    "* many recent packages require python>3.7, so we have to use older versions"
   ]
  },
  {
   "cell_type": "code",
   "execution_count": 1,
   "metadata": {},
   "outputs": [],
   "source": [
    "import os\n",
    "from os import listdir\n",
    "import re\n",
    "import pandas as pd # v1.0.3 (latest v1.4.1)\n",
    "import numpy as np # v1.18.1 (latest v1.21.5)\n",
    "import json\n",
    "import geojson\n",
    "import geopandas as gpd # v0.6.3 (latest v0.10.2)\n",
    "import fiona # v1.8.4 (latest v1.8.21)\n",
    "import rasterio # v1.0.21 (latest v1.2.10)\n",
    "from rasterio.plot import show\n",
    "from shapely.geometry import shape, GeometryCollection\n",
    "from shapely.wkt import loads\n",
    "import arcpy # v2.6\n",
    "from arcgis.features import GeoAccessor, GeoSeriesAccessor\n",
    "import matplotlib # v3.2.1 (latest v3.5.1)\n",
    "import matplotlib.pyplot as plt\n",
    "import matplotlib.patches as mpatches\n",
    "from matplotlib import colors\n",
    "import seaborn as sns\n",
    "from tqdm.notebook import tqdm"
   ]
  },
  {
   "cell_type": "markdown",
   "metadata": {},
   "source": [
    "# 2. Data <a name=\"data\"></a>"
   ]
  },
  {
   "cell_type": "code",
   "execution_count": 5,
   "metadata": {
    "pycharm": {
     "name": "#%%\n"
    }
   },
   "outputs": [],
   "source": [
    "DATA_DIR = 'Novel_Urbanization/MLI_URBAN_DATA_new_naming/FINAL_STANDARD/'\n",
    "RESULT_DIR = '04_Novel_Urbanization_MLI_data_exploration/'\n",
    "arcpy.env.workspace = DATA_DIR"
   ]
  },
  {
   "cell_type": "markdown",
   "metadata": {},
   "source": [
    "## 2.1. File and layers in directory\n",
    "\n",
    "* Codes for listing up individual types\n",
    "\n",
    "```python\n",
    "datasets = arcpy.ListDatasets()\n",
    "for dataset in datasets:\n",
    "    print(arcpy.Describe(dataset).baseName, f\"[{arcpy.Describe(dataset).dataType}]\")\n",
    "    for child in arcpy.Describe(dataset).children:\n",
    "        print(\"\\t\", child.baseName, f\"[{child.dataType}]\")\n",
    "```\n",
    "\n",
    "```python\n",
    "feature_classes = arcpy.ListFeatureClasses()\n",
    "for feature_class in feature_classes:\n",
    "    print(arcpy.Describe(feature_class).baseName, f\"[{arcpy.Describe(feature_class).dataType}]\")\n",
    "```\n",
    "\n",
    "```python\n",
    "rasters = arcpy.ListRasters()\n",
    "for raster in rasters:\n",
    "    print(arcpy.Describe(raster).baseName, f\"[{arcpy.Describe(raster).dataType}]\")\n",
    "```\n",
    "\n",
    "```python\n",
    "tables = arcpy.ListTables()\n",
    "for table in tables:\n",
    "    print(arcpy.Describe(table).baseName, f\"[{arcpy.Describe(table).dataType}]\")\n",
    "```\n",
    "\n",
    "\n",
    "* Traverse a directory tree"
   ]
  },
  {
   "cell_type": "code",
   "execution_count": 11,
   "metadata": {},
   "outputs": [
    {
     "data": {
      "text/html": [
       "<div>\n",
       "<style scoped>\n",
       "    .dataframe tbody tr th:only-of-type {\n",
       "        vertical-align: middle;\n",
       "    }\n",
       "\n",
       "    .dataframe tbody tr th {\n",
       "        vertical-align: top;\n",
       "    }\n",
       "\n",
       "    .dataframe thead th {\n",
       "        text-align: right;\n",
       "    }\n",
       "</style>\n",
       "<table border=\"1\" class=\"dataframe\">\n",
       "  <thead>\n",
       "    <tr style=\"text-align: right;\">\n",
       "      <th></th>\n",
       "      <th>dir</th>\n",
       "      <th>name</th>\n",
       "      <th>data_type</th>\n",
       "    </tr>\n",
       "  </thead>\n",
       "  <tbody>\n",
       "    <tr>\n",
       "      <th>0</th>\n",
       "      <td></td>\n",
       "      <td>mli_adm.tif</td>\n",
       "      <td>RasterDataset</td>\n",
       "    </tr>\n",
       "    <tr>\n",
       "      <th>1</th>\n",
       "      <td></td>\n",
       "      <td>mli_cpo15.tif</td>\n",
       "      <td>RasterDataset</td>\n",
       "    </tr>\n",
       "    <tr>\n",
       "      <th>2</th>\n",
       "      <td></td>\n",
       "      <td>mli_cpo15_urban.tif</td>\n",
       "      <td>RasterDataset</td>\n",
       "    </tr>\n",
       "    <tr>\n",
       "      <th>3</th>\n",
       "      <td></td>\n",
       "      <td>mli_cpo15_urban_hd.tif</td>\n",
       "      <td>RasterDataset</td>\n",
       "    </tr>\n",
       "    <tr>\n",
       "      <th>4</th>\n",
       "      <td></td>\n",
       "      <td>mli_cpo20.tif</td>\n",
       "      <td>RasterDataset</td>\n",
       "    </tr>\n",
       "    <tr>\n",
       "      <th>5</th>\n",
       "      <td></td>\n",
       "      <td>mli_cpo20_urban.tif</td>\n",
       "      <td>RasterDataset</td>\n",
       "    </tr>\n",
       "    <tr>\n",
       "      <th>6</th>\n",
       "      <td></td>\n",
       "      <td>mli_cpo20_urban_hd.tif</td>\n",
       "      <td>RasterDataset</td>\n",
       "    </tr>\n",
       "    <tr>\n",
       "      <th>7</th>\n",
       "      <td></td>\n",
       "      <td>mli_des.tif</td>\n",
       "      <td>RasterDataset</td>\n",
       "    </tr>\n",
       "    <tr>\n",
       "      <th>8</th>\n",
       "      <td></td>\n",
       "      <td>mli_ele.tif</td>\n",
       "      <td>RasterDataset</td>\n",
       "    </tr>\n",
       "    <tr>\n",
       "      <th>9</th>\n",
       "      <td></td>\n",
       "      <td>mli_gbu.tif</td>\n",
       "      <td>RasterDataset</td>\n",
       "    </tr>\n",
       "    <tr>\n",
       "      <th>10</th>\n",
       "      <td></td>\n",
       "      <td>mli_gpo.tif</td>\n",
       "      <td>RasterDataset</td>\n",
       "    </tr>\n",
       "    <tr>\n",
       "      <th>11</th>\n",
       "      <td></td>\n",
       "      <td>mli_gpo_urban.tif</td>\n",
       "      <td>RasterDataset</td>\n",
       "    </tr>\n",
       "    <tr>\n",
       "      <th>12</th>\n",
       "      <td></td>\n",
       "      <td>mli_gpo_urban_hd.tif</td>\n",
       "      <td>RasterDataset</td>\n",
       "    </tr>\n",
       "    <tr>\n",
       "      <th>13</th>\n",
       "      <td></td>\n",
       "      <td>mli_gsmod.tif</td>\n",
       "      <td>RasterDataset</td>\n",
       "    </tr>\n",
       "    <tr>\n",
       "      <th>14</th>\n",
       "      <td></td>\n",
       "      <td>mli_slo.tif</td>\n",
       "      <td>RasterDataset</td>\n",
       "    </tr>\n",
       "    <tr>\n",
       "      <th>15</th>\n",
       "      <td></td>\n",
       "      <td>mli_upo15.tif</td>\n",
       "      <td>RasterDataset</td>\n",
       "    </tr>\n",
       "    <tr>\n",
       "      <th>16</th>\n",
       "      <td></td>\n",
       "      <td>mli_upo15_urban.tif</td>\n",
       "      <td>RasterDataset</td>\n",
       "    </tr>\n",
       "    <tr>\n",
       "      <th>17</th>\n",
       "      <td></td>\n",
       "      <td>mli_upo15_urban_hd.tif</td>\n",
       "      <td>RasterDataset</td>\n",
       "    </tr>\n",
       "    <tr>\n",
       "      <th>18</th>\n",
       "      <td></td>\n",
       "      <td>mli_wat.tif</td>\n",
       "      <td>RasterDataset</td>\n",
       "    </tr>\n",
       "    <tr>\n",
       "      <th>19</th>\n",
       "      <td></td>\n",
       "      <td>mli_wat_lc.tif</td>\n",
       "      <td>RasterDataset</td>\n",
       "    </tr>\n",
       "    <tr>\n",
       "      <th>20</th>\n",
       "      <td></td>\n",
       "      <td>mli_wat_p.tif</td>\n",
       "      <td>RasterDataset</td>\n",
       "    </tr>\n",
       "    <tr>\n",
       "      <th>21</th>\n",
       "      <td></td>\n",
       "      <td>NO_DATA_mli_adm.tif</td>\n",
       "      <td>RasterDataset</td>\n",
       "    </tr>\n",
       "    <tr>\n",
       "      <th>22</th>\n",
       "      <td></td>\n",
       "      <td>NO_DATA_mli_cpo15.tif</td>\n",
       "      <td>RasterDataset</td>\n",
       "    </tr>\n",
       "    <tr>\n",
       "      <th>23</th>\n",
       "      <td></td>\n",
       "      <td>NO_DATA_mli_cpo20.tif</td>\n",
       "      <td>RasterDataset</td>\n",
       "    </tr>\n",
       "    <tr>\n",
       "      <th>24</th>\n",
       "      <td></td>\n",
       "      <td>NO_DATA_mli_des.tif</td>\n",
       "      <td>RasterDataset</td>\n",
       "    </tr>\n",
       "    <tr>\n",
       "      <th>25</th>\n",
       "      <td></td>\n",
       "      <td>NO_DATA_mli_ele.tif</td>\n",
       "      <td>RasterDataset</td>\n",
       "    </tr>\n",
       "    <tr>\n",
       "      <th>26</th>\n",
       "      <td></td>\n",
       "      <td>NO_DATA_mli_gbu.tif</td>\n",
       "      <td>RasterDataset</td>\n",
       "    </tr>\n",
       "    <tr>\n",
       "      <th>27</th>\n",
       "      <td></td>\n",
       "      <td>NO_DATA_mli_gpo.tif</td>\n",
       "      <td>RasterDataset</td>\n",
       "    </tr>\n",
       "    <tr>\n",
       "      <th>28</th>\n",
       "      <td></td>\n",
       "      <td>NO_DATA_mli_gsmod.tif</td>\n",
       "      <td>RasterDataset</td>\n",
       "    </tr>\n",
       "    <tr>\n",
       "      <th>29</th>\n",
       "      <td></td>\n",
       "      <td>NO_DATA_mli_slo.tif</td>\n",
       "      <td>RasterDataset</td>\n",
       "    </tr>\n",
       "    <tr>\n",
       "      <th>30</th>\n",
       "      <td></td>\n",
       "      <td>NO_DATA_mli_upo15.tif</td>\n",
       "      <td>RasterDataset</td>\n",
       "    </tr>\n",
       "    <tr>\n",
       "      <th>31</th>\n",
       "      <td></td>\n",
       "      <td>NO_DATA_mli_wat.tif</td>\n",
       "      <td>RasterDataset</td>\n",
       "    </tr>\n",
       "    <tr>\n",
       "      <th>32</th>\n",
       "      <td></td>\n",
       "      <td>NO_DATA_mli_wat_lc.tif</td>\n",
       "      <td>RasterDataset</td>\n",
       "    </tr>\n",
       "    <tr>\n",
       "      <th>33</th>\n",
       "      <td></td>\n",
       "      <td>urban_pop.tif</td>\n",
       "      <td>RasterDataset</td>\n",
       "    </tr>\n",
       "    <tr>\n",
       "      <th>34</th>\n",
       "      <td></td>\n",
       "      <td>mli_adm.shp</td>\n",
       "      <td>ShapeFile</td>\n",
       "    </tr>\n",
       "  </tbody>\n",
       "</table>\n",
       "</div>"
      ],
      "text/plain": [
       "   dir                    name      data_type\n",
       "0                  mli_adm.tif  RasterDataset\n",
       "1                mli_cpo15.tif  RasterDataset\n",
       "2          mli_cpo15_urban.tif  RasterDataset\n",
       "3       mli_cpo15_urban_hd.tif  RasterDataset\n",
       "4                mli_cpo20.tif  RasterDataset\n",
       "5          mli_cpo20_urban.tif  RasterDataset\n",
       "6       mli_cpo20_urban_hd.tif  RasterDataset\n",
       "7                  mli_des.tif  RasterDataset\n",
       "8                  mli_ele.tif  RasterDataset\n",
       "9                  mli_gbu.tif  RasterDataset\n",
       "10                 mli_gpo.tif  RasterDataset\n",
       "11           mli_gpo_urban.tif  RasterDataset\n",
       "12        mli_gpo_urban_hd.tif  RasterDataset\n",
       "13               mli_gsmod.tif  RasterDataset\n",
       "14                 mli_slo.tif  RasterDataset\n",
       "15               mli_upo15.tif  RasterDataset\n",
       "16         mli_upo15_urban.tif  RasterDataset\n",
       "17      mli_upo15_urban_hd.tif  RasterDataset\n",
       "18                 mli_wat.tif  RasterDataset\n",
       "19              mli_wat_lc.tif  RasterDataset\n",
       "20               mli_wat_p.tif  RasterDataset\n",
       "21         NO_DATA_mli_adm.tif  RasterDataset\n",
       "22       NO_DATA_mli_cpo15.tif  RasterDataset\n",
       "23       NO_DATA_mli_cpo20.tif  RasterDataset\n",
       "24         NO_DATA_mli_des.tif  RasterDataset\n",
       "25         NO_DATA_mli_ele.tif  RasterDataset\n",
       "26         NO_DATA_mli_gbu.tif  RasterDataset\n",
       "27         NO_DATA_mli_gpo.tif  RasterDataset\n",
       "28       NO_DATA_mli_gsmod.tif  RasterDataset\n",
       "29         NO_DATA_mli_slo.tif  RasterDataset\n",
       "30       NO_DATA_mli_upo15.tif  RasterDataset\n",
       "31         NO_DATA_mli_wat.tif  RasterDataset\n",
       "32      NO_DATA_mli_wat_lc.tif  RasterDataset\n",
       "33               urban_pop.tif  RasterDataset\n",
       "34                 mli_adm.shp      ShapeFile"
      ]
     },
     "execution_count": 11,
     "metadata": {},
     "output_type": "execute_result"
    }
   ],
   "source": [
    "walk = arcpy.da.Walk(arcpy.env.workspace, topdown=False)\n",
    "layers = pd.DataFrame(columns = ['dir', 'name', 'data_type'])\n",
    "for dir_path, dir_names, data_names in walk:\n",
    "    dir_name = re.sub(r'^.*' + DATA_DIR[:-1], \"\", dir_path)\n",
    "    dir_name = re.sub(r'^\\\\', \"\", dir_name)\n",
    "    for data_name in data_names:\n",
    "        data_type = arcpy.Describe(data_name).dataType\n",
    "        layers.loc[len(layers)] = [dir_name, data_name, data_type]\n",
    "        \n",
    "layers"
   ]
  },
  {
   "cell_type": "markdown",
   "metadata": {},
   "source": [
    "## 2.1. Layer summaries\n",
    "Summarize properties for each layer (tif files only)\n"
   ]
  },
  {
   "cell_type": "code",
   "execution_count": 17,
   "metadata": {
    "pycharm": {
     "name": "#%%\n"
    }
   },
   "outputs": [
    {
     "data": {
      "application/vnd.jupyter.widget-view+json": {
       "model_id": "08f428474f774cf58ee309163408dcc6",
       "version_major": 2,
       "version_minor": 0
      },
      "text/plain": [
       "  0%|          | 0/34 [00:00<?, ?it/s]"
      ]
     },
     "metadata": {},
     "output_type": "display_data"
    },
    {
     "data": {
      "text/html": [
       "<div>\n",
       "<style scoped>\n",
       "    .dataframe tbody tr th:only-of-type {\n",
       "        vertical-align: middle;\n",
       "    }\n",
       "\n",
       "    .dataframe tbody tr th {\n",
       "        vertical-align: top;\n",
       "    }\n",
       "\n",
       "    .dataframe thead th {\n",
       "        text-align: right;\n",
       "    }\n",
       "</style>\n",
       "<table border=\"1\" class=\"dataframe\">\n",
       "  <thead>\n",
       "    <tr style=\"text-align: right;\">\n",
       "      <th></th>\n",
       "      <th>dir</th>\n",
       "      <th>layer_name</th>\n",
       "      <th>layer_label</th>\n",
       "      <th>description</th>\n",
       "      <th>data_type</th>\n",
       "      <th>crs_name</th>\n",
       "      <th>crs_code</th>\n",
       "      <th>num_dimensions</th>\n",
       "      <th>raster_width</th>\n",
       "      <th>raster_cell_width</th>\n",
       "      <th>raster_height</th>\n",
       "      <th>raster_cell_height</th>\n",
       "      <th>raster_nodata_value</th>\n",
       "      <th>min_lon</th>\n",
       "      <th>max_lon</th>\n",
       "      <th>min_lat</th>\n",
       "      <th>max_lat</th>\n",
       "      <th>source_name</th>\n",
       "      <th>source_url</th>\n",
       "      <th>data_process_summary</th>\n",
       "    </tr>\n",
       "  </thead>\n",
       "  <tbody>\n",
       "    <tr>\n",
       "      <th>0</th>\n",
       "      <td></td>\n",
       "      <td>mli_adm.tif</td>\n",
       "      <td></td>\n",
       "      <td></td>\n",
       "      <td>RasterDataset</td>\n",
       "      <td>World_Mollweide</td>\n",
       "      <td>54009</td>\n",
       "      <td>1</td>\n",
       "      <td>6464</td>\n",
       "      <td>250.0</td>\n",
       "      <td>7204</td>\n",
       "      <td>250.0</td>\n",
       "      <td>-200.0</td>\n",
       "      <td>-12.746095</td>\n",
       "      <td>4.390086</td>\n",
       "      <td>10.154247</td>\n",
       "      <td>25.005682</td>\n",
       "      <td></td>\n",
       "      <td></td>\n",
       "      <td></td>\n",
       "    </tr>\n",
       "    <tr>\n",
       "      <th>1</th>\n",
       "      <td></td>\n",
       "      <td>mli_cpo15.tif</td>\n",
       "      <td></td>\n",
       "      <td></td>\n",
       "      <td>RasterDataset</td>\n",
       "      <td>World_Mollweide</td>\n",
       "      <td>54009</td>\n",
       "      <td>1</td>\n",
       "      <td>6464</td>\n",
       "      <td>250.0</td>\n",
       "      <td>7204</td>\n",
       "      <td>250.0</td>\n",
       "      <td>-200.0</td>\n",
       "      <td>-12.746095</td>\n",
       "      <td>4.390086</td>\n",
       "      <td>10.154247</td>\n",
       "      <td>25.005682</td>\n",
       "      <td></td>\n",
       "      <td></td>\n",
       "      <td></td>\n",
       "    </tr>\n",
       "    <tr>\n",
       "      <th>2</th>\n",
       "      <td></td>\n",
       "      <td>mli_cpo15_urban.tif</td>\n",
       "      <td></td>\n",
       "      <td></td>\n",
       "      <td>RasterDataset</td>\n",
       "      <td>World_Mollweide</td>\n",
       "      <td>54009</td>\n",
       "      <td>1</td>\n",
       "      <td>6464</td>\n",
       "      <td>250.0</td>\n",
       "      <td>7204</td>\n",
       "      <td>250.0</td>\n",
       "      <td>0.0</td>\n",
       "      <td>-12.746095</td>\n",
       "      <td>4.390086</td>\n",
       "      <td>10.154247</td>\n",
       "      <td>25.005682</td>\n",
       "      <td></td>\n",
       "      <td></td>\n",
       "      <td></td>\n",
       "    </tr>\n",
       "    <tr>\n",
       "      <th>3</th>\n",
       "      <td></td>\n",
       "      <td>mli_cpo15_urban_hd.tif</td>\n",
       "      <td></td>\n",
       "      <td></td>\n",
       "      <td>RasterDataset</td>\n",
       "      <td>World_Mollweide</td>\n",
       "      <td>54009</td>\n",
       "      <td>1</td>\n",
       "      <td>6464</td>\n",
       "      <td>250.0</td>\n",
       "      <td>7204</td>\n",
       "      <td>250.0</td>\n",
       "      <td>0.0</td>\n",
       "      <td>-12.746095</td>\n",
       "      <td>4.390086</td>\n",
       "      <td>10.154247</td>\n",
       "      <td>25.005682</td>\n",
       "      <td></td>\n",
       "      <td></td>\n",
       "      <td></td>\n",
       "    </tr>\n",
       "    <tr>\n",
       "      <th>4</th>\n",
       "      <td></td>\n",
       "      <td>mli_cpo20.tif</td>\n",
       "      <td></td>\n",
       "      <td></td>\n",
       "      <td>RasterDataset</td>\n",
       "      <td>World_Mollweide</td>\n",
       "      <td>54009</td>\n",
       "      <td>1</td>\n",
       "      <td>6464</td>\n",
       "      <td>250.0</td>\n",
       "      <td>7204</td>\n",
       "      <td>250.0</td>\n",
       "      <td>-200.0</td>\n",
       "      <td>-12.746095</td>\n",
       "      <td>4.390086</td>\n",
       "      <td>10.154247</td>\n",
       "      <td>25.005682</td>\n",
       "      <td></td>\n",
       "      <td></td>\n",
       "      <td></td>\n",
       "    </tr>\n",
       "    <tr>\n",
       "      <th>5</th>\n",
       "      <td></td>\n",
       "      <td>mli_cpo20_urban.tif</td>\n",
       "      <td></td>\n",
       "      <td></td>\n",
       "      <td>RasterDataset</td>\n",
       "      <td>World_Mollweide</td>\n",
       "      <td>54009</td>\n",
       "      <td>1</td>\n",
       "      <td>6464</td>\n",
       "      <td>250.0</td>\n",
       "      <td>7204</td>\n",
       "      <td>250.0</td>\n",
       "      <td>0.0</td>\n",
       "      <td>-12.746095</td>\n",
       "      <td>4.390086</td>\n",
       "      <td>10.154247</td>\n",
       "      <td>25.005682</td>\n",
       "      <td></td>\n",
       "      <td></td>\n",
       "      <td></td>\n",
       "    </tr>\n",
       "    <tr>\n",
       "      <th>6</th>\n",
       "      <td></td>\n",
       "      <td>mli_cpo20_urban_hd.tif</td>\n",
       "      <td></td>\n",
       "      <td></td>\n",
       "      <td>RasterDataset</td>\n",
       "      <td>World_Mollweide</td>\n",
       "      <td>54009</td>\n",
       "      <td>1</td>\n",
       "      <td>6464</td>\n",
       "      <td>250.0</td>\n",
       "      <td>7204</td>\n",
       "      <td>250.0</td>\n",
       "      <td>0.0</td>\n",
       "      <td>-12.746095</td>\n",
       "      <td>4.390086</td>\n",
       "      <td>10.154247</td>\n",
       "      <td>25.005682</td>\n",
       "      <td></td>\n",
       "      <td></td>\n",
       "      <td></td>\n",
       "    </tr>\n",
       "    <tr>\n",
       "      <th>7</th>\n",
       "      <td></td>\n",
       "      <td>mli_des.tif</td>\n",
       "      <td></td>\n",
       "      <td></td>\n",
       "      <td>RasterDataset</td>\n",
       "      <td>World_Mollweide</td>\n",
       "      <td>54009</td>\n",
       "      <td>1</td>\n",
       "      <td>6464</td>\n",
       "      <td>250.0</td>\n",
       "      <td>7204</td>\n",
       "      <td>250.0</td>\n",
       "      <td>-200.0</td>\n",
       "      <td>-12.746095</td>\n",
       "      <td>4.390086</td>\n",
       "      <td>10.154247</td>\n",
       "      <td>25.005682</td>\n",
       "      <td></td>\n",
       "      <td></td>\n",
       "      <td></td>\n",
       "    </tr>\n",
       "    <tr>\n",
       "      <th>8</th>\n",
       "      <td></td>\n",
       "      <td>mli_ele.tif</td>\n",
       "      <td></td>\n",
       "      <td></td>\n",
       "      <td>RasterDataset</td>\n",
       "      <td>World_Mollweide</td>\n",
       "      <td>54009</td>\n",
       "      <td>1</td>\n",
       "      <td>6464</td>\n",
       "      <td>250.0</td>\n",
       "      <td>7204</td>\n",
       "      <td>250.0</td>\n",
       "      <td>-200.0</td>\n",
       "      <td>-12.746095</td>\n",
       "      <td>4.390086</td>\n",
       "      <td>10.154247</td>\n",
       "      <td>25.005682</td>\n",
       "      <td></td>\n",
       "      <td></td>\n",
       "      <td></td>\n",
       "    </tr>\n",
       "    <tr>\n",
       "      <th>9</th>\n",
       "      <td></td>\n",
       "      <td>mli_gbu.tif</td>\n",
       "      <td></td>\n",
       "      <td></td>\n",
       "      <td>RasterDataset</td>\n",
       "      <td>World_Mollweide</td>\n",
       "      <td>54009</td>\n",
       "      <td>1</td>\n",
       "      <td>6464</td>\n",
       "      <td>250.0</td>\n",
       "      <td>7204</td>\n",
       "      <td>250.0</td>\n",
       "      <td>-200.0</td>\n",
       "      <td>-12.746095</td>\n",
       "      <td>4.390086</td>\n",
       "      <td>10.154247</td>\n",
       "      <td>25.005682</td>\n",
       "      <td></td>\n",
       "      <td></td>\n",
       "      <td></td>\n",
       "    </tr>\n",
       "    <tr>\n",
       "      <th>10</th>\n",
       "      <td></td>\n",
       "      <td>mli_gpo.tif</td>\n",
       "      <td></td>\n",
       "      <td></td>\n",
       "      <td>RasterDataset</td>\n",
       "      <td>World_Mollweide</td>\n",
       "      <td>54009</td>\n",
       "      <td>1</td>\n",
       "      <td>6464</td>\n",
       "      <td>250.0</td>\n",
       "      <td>7204</td>\n",
       "      <td>250.0</td>\n",
       "      <td>-200.0</td>\n",
       "      <td>-12.746095</td>\n",
       "      <td>4.390086</td>\n",
       "      <td>10.154247</td>\n",
       "      <td>25.005682</td>\n",
       "      <td></td>\n",
       "      <td></td>\n",
       "      <td></td>\n",
       "    </tr>\n",
       "    <tr>\n",
       "      <th>11</th>\n",
       "      <td></td>\n",
       "      <td>mli_gpo_urban.tif</td>\n",
       "      <td></td>\n",
       "      <td></td>\n",
       "      <td>RasterDataset</td>\n",
       "      <td>World_Mollweide</td>\n",
       "      <td>54009</td>\n",
       "      <td>1</td>\n",
       "      <td>6464</td>\n",
       "      <td>250.0</td>\n",
       "      <td>7204</td>\n",
       "      <td>250.0</td>\n",
       "      <td>0.0</td>\n",
       "      <td>-12.746095</td>\n",
       "      <td>4.390086</td>\n",
       "      <td>10.154247</td>\n",
       "      <td>25.005682</td>\n",
       "      <td></td>\n",
       "      <td></td>\n",
       "      <td></td>\n",
       "    </tr>\n",
       "    <tr>\n",
       "      <th>12</th>\n",
       "      <td></td>\n",
       "      <td>mli_gpo_urban_hd.tif</td>\n",
       "      <td></td>\n",
       "      <td></td>\n",
       "      <td>RasterDataset</td>\n",
       "      <td>World_Mollweide</td>\n",
       "      <td>54009</td>\n",
       "      <td>1</td>\n",
       "      <td>6464</td>\n",
       "      <td>250.0</td>\n",
       "      <td>7204</td>\n",
       "      <td>250.0</td>\n",
       "      <td>0.0</td>\n",
       "      <td>-12.746095</td>\n",
       "      <td>4.390086</td>\n",
       "      <td>10.154247</td>\n",
       "      <td>25.005682</td>\n",
       "      <td></td>\n",
       "      <td></td>\n",
       "      <td></td>\n",
       "    </tr>\n",
       "    <tr>\n",
       "      <th>13</th>\n",
       "      <td></td>\n",
       "      <td>mli_gsmod.tif</td>\n",
       "      <td></td>\n",
       "      <td></td>\n",
       "      <td>RasterDataset</td>\n",
       "      <td>World_Mollweide</td>\n",
       "      <td>54009</td>\n",
       "      <td>1</td>\n",
       "      <td>6464</td>\n",
       "      <td>250.0</td>\n",
       "      <td>7204</td>\n",
       "      <td>250.0</td>\n",
       "      <td>-200.0</td>\n",
       "      <td>-12.746095</td>\n",
       "      <td>4.390086</td>\n",
       "      <td>10.154247</td>\n",
       "      <td>25.005682</td>\n",
       "      <td></td>\n",
       "      <td></td>\n",
       "      <td></td>\n",
       "    </tr>\n",
       "    <tr>\n",
       "      <th>14</th>\n",
       "      <td></td>\n",
       "      <td>mli_slo.tif</td>\n",
       "      <td></td>\n",
       "      <td></td>\n",
       "      <td>RasterDataset</td>\n",
       "      <td>World_Mollweide</td>\n",
       "      <td>54009</td>\n",
       "      <td>1</td>\n",
       "      <td>6464</td>\n",
       "      <td>250.0</td>\n",
       "      <td>7204</td>\n",
       "      <td>250.0</td>\n",
       "      <td>-200.0</td>\n",
       "      <td>-12.746095</td>\n",
       "      <td>4.390086</td>\n",
       "      <td>10.154247</td>\n",
       "      <td>25.005682</td>\n",
       "      <td></td>\n",
       "      <td></td>\n",
       "      <td></td>\n",
       "    </tr>\n",
       "    <tr>\n",
       "      <th>15</th>\n",
       "      <td></td>\n",
       "      <td>mli_upo15.tif</td>\n",
       "      <td></td>\n",
       "      <td></td>\n",
       "      <td>RasterDataset</td>\n",
       "      <td>World_Mollweide</td>\n",
       "      <td>54009</td>\n",
       "      <td>1</td>\n",
       "      <td>6464</td>\n",
       "      <td>250.0</td>\n",
       "      <td>7204</td>\n",
       "      <td>250.0</td>\n",
       "      <td>-200.0</td>\n",
       "      <td>-12.746095</td>\n",
       "      <td>4.390086</td>\n",
       "      <td>10.154247</td>\n",
       "      <td>25.005682</td>\n",
       "      <td></td>\n",
       "      <td></td>\n",
       "      <td></td>\n",
       "    </tr>\n",
       "    <tr>\n",
       "      <th>16</th>\n",
       "      <td></td>\n",
       "      <td>mli_upo15_urban.tif</td>\n",
       "      <td></td>\n",
       "      <td></td>\n",
       "      <td>RasterDataset</td>\n",
       "      <td>World_Mollweide</td>\n",
       "      <td>54009</td>\n",
       "      <td>1</td>\n",
       "      <td>6464</td>\n",
       "      <td>250.0</td>\n",
       "      <td>7204</td>\n",
       "      <td>250.0</td>\n",
       "      <td>0.0</td>\n",
       "      <td>-12.746095</td>\n",
       "      <td>4.390086</td>\n",
       "      <td>10.154247</td>\n",
       "      <td>25.005682</td>\n",
       "      <td></td>\n",
       "      <td></td>\n",
       "      <td></td>\n",
       "    </tr>\n",
       "    <tr>\n",
       "      <th>17</th>\n",
       "      <td></td>\n",
       "      <td>mli_upo15_urban_hd.tif</td>\n",
       "      <td></td>\n",
       "      <td></td>\n",
       "      <td>RasterDataset</td>\n",
       "      <td>World_Mollweide</td>\n",
       "      <td>54009</td>\n",
       "      <td>1</td>\n",
       "      <td>6464</td>\n",
       "      <td>250.0</td>\n",
       "      <td>7204</td>\n",
       "      <td>250.0</td>\n",
       "      <td>0.0</td>\n",
       "      <td>-12.746095</td>\n",
       "      <td>4.390086</td>\n",
       "      <td>10.154247</td>\n",
       "      <td>25.005682</td>\n",
       "      <td></td>\n",
       "      <td></td>\n",
       "      <td></td>\n",
       "    </tr>\n",
       "    <tr>\n",
       "      <th>18</th>\n",
       "      <td></td>\n",
       "      <td>mli_wat.tif</td>\n",
       "      <td></td>\n",
       "      <td></td>\n",
       "      <td>RasterDataset</td>\n",
       "      <td>World_Mollweide</td>\n",
       "      <td>54009</td>\n",
       "      <td>1</td>\n",
       "      <td>6464</td>\n",
       "      <td>250.0</td>\n",
       "      <td>7204</td>\n",
       "      <td>250.0</td>\n",
       "      <td>-200.0</td>\n",
       "      <td>-12.746095</td>\n",
       "      <td>4.390086</td>\n",
       "      <td>10.154247</td>\n",
       "      <td>25.005682</td>\n",
       "      <td></td>\n",
       "      <td></td>\n",
       "      <td></td>\n",
       "    </tr>\n",
       "    <tr>\n",
       "      <th>19</th>\n",
       "      <td></td>\n",
       "      <td>mli_wat_lc.tif</td>\n",
       "      <td></td>\n",
       "      <td></td>\n",
       "      <td>RasterDataset</td>\n",
       "      <td>World_Mollweide</td>\n",
       "      <td>54009</td>\n",
       "      <td>1</td>\n",
       "      <td>6464</td>\n",
       "      <td>250.0</td>\n",
       "      <td>7204</td>\n",
       "      <td>250.0</td>\n",
       "      <td>-200.0</td>\n",
       "      <td>-12.746095</td>\n",
       "      <td>4.390086</td>\n",
       "      <td>10.154247</td>\n",
       "      <td>25.005682</td>\n",
       "      <td></td>\n",
       "      <td></td>\n",
       "      <td></td>\n",
       "    </tr>\n",
       "    <tr>\n",
       "      <th>20</th>\n",
       "      <td></td>\n",
       "      <td>mli_wat_p.tif</td>\n",
       "      <td></td>\n",
       "      <td></td>\n",
       "      <td>RasterDataset</td>\n",
       "      <td>World_Mollweide</td>\n",
       "      <td>54009</td>\n",
       "      <td>1</td>\n",
       "      <td>6464</td>\n",
       "      <td>250.0</td>\n",
       "      <td>7204</td>\n",
       "      <td>250.0</td>\n",
       "      <td>-200.0</td>\n",
       "      <td>-12.746095</td>\n",
       "      <td>4.390086</td>\n",
       "      <td>10.154247</td>\n",
       "      <td>25.005682</td>\n",
       "      <td></td>\n",
       "      <td></td>\n",
       "      <td></td>\n",
       "    </tr>\n",
       "    <tr>\n",
       "      <th>21</th>\n",
       "      <td></td>\n",
       "      <td>urban_pop.tif</td>\n",
       "      <td></td>\n",
       "      <td></td>\n",
       "      <td>RasterDataset</td>\n",
       "      <td>World_Mollweide</td>\n",
       "      <td>54009</td>\n",
       "      <td>1</td>\n",
       "      <td>6464</td>\n",
       "      <td>250.0</td>\n",
       "      <td>7204</td>\n",
       "      <td>250.0</td>\n",
       "      <td>-200.0</td>\n",
       "      <td>-12.746095</td>\n",
       "      <td>4.390086</td>\n",
       "      <td>10.154247</td>\n",
       "      <td>25.005682</td>\n",
       "      <td></td>\n",
       "      <td></td>\n",
       "      <td></td>\n",
       "    </tr>\n",
       "  </tbody>\n",
       "</table>\n",
       "</div>"
      ],
      "text/plain": [
       "   dir              layer_name layer_label description      data_type  \\\n",
       "0                  mli_adm.tif                          RasterDataset   \n",
       "1                mli_cpo15.tif                          RasterDataset   \n",
       "2          mli_cpo15_urban.tif                          RasterDataset   \n",
       "3       mli_cpo15_urban_hd.tif                          RasterDataset   \n",
       "4                mli_cpo20.tif                          RasterDataset   \n",
       "5          mli_cpo20_urban.tif                          RasterDataset   \n",
       "6       mli_cpo20_urban_hd.tif                          RasterDataset   \n",
       "7                  mli_des.tif                          RasterDataset   \n",
       "8                  mli_ele.tif                          RasterDataset   \n",
       "9                  mli_gbu.tif                          RasterDataset   \n",
       "10                 mli_gpo.tif                          RasterDataset   \n",
       "11           mli_gpo_urban.tif                          RasterDataset   \n",
       "12        mli_gpo_urban_hd.tif                          RasterDataset   \n",
       "13               mli_gsmod.tif                          RasterDataset   \n",
       "14                 mli_slo.tif                          RasterDataset   \n",
       "15               mli_upo15.tif                          RasterDataset   \n",
       "16         mli_upo15_urban.tif                          RasterDataset   \n",
       "17      mli_upo15_urban_hd.tif                          RasterDataset   \n",
       "18                 mli_wat.tif                          RasterDataset   \n",
       "19              mli_wat_lc.tif                          RasterDataset   \n",
       "20               mli_wat_p.tif                          RasterDataset   \n",
       "21               urban_pop.tif                          RasterDataset   \n",
       "\n",
       "           crs_name crs_code num_dimensions raster_width  raster_cell_width  \\\n",
       "0   World_Mollweide    54009              1         6464              250.0   \n",
       "1   World_Mollweide    54009              1         6464              250.0   \n",
       "2   World_Mollweide    54009              1         6464              250.0   \n",
       "3   World_Mollweide    54009              1         6464              250.0   \n",
       "4   World_Mollweide    54009              1         6464              250.0   \n",
       "5   World_Mollweide    54009              1         6464              250.0   \n",
       "6   World_Mollweide    54009              1         6464              250.0   \n",
       "7   World_Mollweide    54009              1         6464              250.0   \n",
       "8   World_Mollweide    54009              1         6464              250.0   \n",
       "9   World_Mollweide    54009              1         6464              250.0   \n",
       "10  World_Mollweide    54009              1         6464              250.0   \n",
       "11  World_Mollweide    54009              1         6464              250.0   \n",
       "12  World_Mollweide    54009              1         6464              250.0   \n",
       "13  World_Mollweide    54009              1         6464              250.0   \n",
       "14  World_Mollweide    54009              1         6464              250.0   \n",
       "15  World_Mollweide    54009              1         6464              250.0   \n",
       "16  World_Mollweide    54009              1         6464              250.0   \n",
       "17  World_Mollweide    54009              1         6464              250.0   \n",
       "18  World_Mollweide    54009              1         6464              250.0   \n",
       "19  World_Mollweide    54009              1         6464              250.0   \n",
       "20  World_Mollweide    54009              1         6464              250.0   \n",
       "21  World_Mollweide    54009              1         6464              250.0   \n",
       "\n",
       "   raster_height  raster_cell_height  raster_nodata_value    min_lon  \\\n",
       "0           7204               250.0               -200.0 -12.746095   \n",
       "1           7204               250.0               -200.0 -12.746095   \n",
       "2           7204               250.0                  0.0 -12.746095   \n",
       "3           7204               250.0                  0.0 -12.746095   \n",
       "4           7204               250.0               -200.0 -12.746095   \n",
       "5           7204               250.0                  0.0 -12.746095   \n",
       "6           7204               250.0                  0.0 -12.746095   \n",
       "7           7204               250.0               -200.0 -12.746095   \n",
       "8           7204               250.0               -200.0 -12.746095   \n",
       "9           7204               250.0               -200.0 -12.746095   \n",
       "10          7204               250.0               -200.0 -12.746095   \n",
       "11          7204               250.0                  0.0 -12.746095   \n",
       "12          7204               250.0                  0.0 -12.746095   \n",
       "13          7204               250.0               -200.0 -12.746095   \n",
       "14          7204               250.0               -200.0 -12.746095   \n",
       "15          7204               250.0               -200.0 -12.746095   \n",
       "16          7204               250.0                  0.0 -12.746095   \n",
       "17          7204               250.0                  0.0 -12.746095   \n",
       "18          7204               250.0               -200.0 -12.746095   \n",
       "19          7204               250.0               -200.0 -12.746095   \n",
       "20          7204               250.0               -200.0 -12.746095   \n",
       "21          7204               250.0               -200.0 -12.746095   \n",
       "\n",
       "     max_lon    min_lat    max_lat source_name source_url data_process_summary  \n",
       "0   4.390086  10.154247  25.005682                                              \n",
       "1   4.390086  10.154247  25.005682                                              \n",
       "2   4.390086  10.154247  25.005682                                              \n",
       "3   4.390086  10.154247  25.005682                                              \n",
       "4   4.390086  10.154247  25.005682                                              \n",
       "5   4.390086  10.154247  25.005682                                              \n",
       "6   4.390086  10.154247  25.005682                                              \n",
       "7   4.390086  10.154247  25.005682                                              \n",
       "8   4.390086  10.154247  25.005682                                              \n",
       "9   4.390086  10.154247  25.005682                                              \n",
       "10  4.390086  10.154247  25.005682                                              \n",
       "11  4.390086  10.154247  25.005682                                              \n",
       "12  4.390086  10.154247  25.005682                                              \n",
       "13  4.390086  10.154247  25.005682                                              \n",
       "14  4.390086  10.154247  25.005682                                              \n",
       "15  4.390086  10.154247  25.005682                                              \n",
       "16  4.390086  10.154247  25.005682                                              \n",
       "17  4.390086  10.154247  25.005682                                              \n",
       "18  4.390086  10.154247  25.005682                                              \n",
       "19  4.390086  10.154247  25.005682                                              \n",
       "20  4.390086  10.154247  25.005682                                              \n",
       "21  4.390086  10.154247  25.005682                                              "
      ]
     },
     "execution_count": 17,
     "metadata": {},
     "output_type": "execute_result"
    }
   ],
   "source": [
    "raster_layers = layers[layers['data_type'] == 'RasterDataset']\n",
    "layer_summaries = pd.DataFrame(columns = ['dir', 'layer_name', 'layer_label', 'description', 'data_type', 'crs_name', 'crs_code', 'num_dimensions', 'raster_width', 'raster_cell_width', 'raster_height', 'raster_cell_height', 'raster_nodata_value', 'min_lon', 'max_lon', 'min_lat', 'max_lat', 'source_name', 'source_url', 'data_process_summary'])\n",
    "for ix, layer in tqdm(raster_layers.iterrows(), total=len(raster_layers)):\n",
    "    # ignore NO_DATA_* layers since they seem redundant\n",
    "    if \"NO_DATA\" in layer['name']:\n",
    "        continue\n",
    "\n",
    "    layer_properties = arcpy.Describe(layer['name'])\n",
    "    layer_summary = [\n",
    "        layer['dir'],\n",
    "        layer['name'],\n",
    "        \"\", \"\",\n",
    "        layer['data_type'],\n",
    "        layer_properties.spatialReference.name,\n",
    "        layer_properties.spatialReference.factoryCode,\n",
    "        layer_properties.bandCount,\n",
    "        layer_properties.width,\n",
    "        layer_properties.meanCellWidth,\n",
    "        layer_properties.height,\n",
    "        layer_properties.meanCellHeight,\n",
    "        layer_properties.noDataValue,\n",
    "        layer_properties.extent.projectAs(arcpy.SpatialReference(4326)).XMin,\n",
    "        layer_properties.extent.projectAs(arcpy.SpatialReference(4326)).XMax,\n",
    "        layer_properties.extent.projectAs(arcpy.SpatialReference(4326)).YMin,\n",
    "        layer_properties.extent.projectAs(arcpy.SpatialReference(4326)).YMax,\n",
    "        \"\", \"\", \"\"\n",
    "    ]\n",
    "\n",
    "    layer_summaries.loc[len(layer_summaries.index)] = layer_summary\n",
    "\n",
    "with pd.ExcelWriter(RESULT_DIR + \"dataset_summary.xlsx\", engine='openpyxl', mode='w', if_sheet_exists='replace') as writer: # \"if_sheet_exists\" option only works with pandas>1.3.0\n",
    "    layer_summaries.to_excel(writer, sheet_name=\"layer_summaries\", index=False, encoding='utf8')\n",
    "layer_summaries"
   ]
  },
  {
   "cell_type": "markdown",
   "metadata": {},
   "source": [
    "# 3. Visualizations <a name=\"visualizations\"></a>\n",
    "Generate visual representations for the dataset from selected / grouped layers"
   ]
  },
  {
   "cell_type": "markdown",
   "metadata": {},
   "source": [
    "## 3.1. Raster layers"
   ]
  },
  {
   "cell_type": "code",
   "execution_count": 21,
   "metadata": {},
   "outputs": [],
   "source": [
    "my_colors = ['tab:orange', 'tab:green', 'tab:blue', 'tab:red', 'tab:purple']"
   ]
  },
  {
   "cell_type": "markdown",
   "metadata": {},
   "source": [
    "### 3.1.1. adm"
   ]
  },
  {
   "cell_type": "code",
   "execution_count": 20,
   "metadata": {},
   "outputs": [
    {
     "data": {
      "text/html": [
       "<div>\n",
       "<style scoped>\n",
       "    .dataframe tbody tr th:only-of-type {\n",
       "        vertical-align: middle;\n",
       "    }\n",
       "\n",
       "    .dataframe tbody tr th {\n",
       "        vertical-align: top;\n",
       "    }\n",
       "\n",
       "    .dataframe thead th {\n",
       "        text-align: right;\n",
       "    }\n",
       "</style>\n",
       "<table border=\"1\" class=\"dataframe\">\n",
       "  <thead>\n",
       "    <tr style=\"text-align: right;\">\n",
       "      <th></th>\n",
       "      <th>dir</th>\n",
       "      <th>layer_name</th>\n",
       "      <th>layer_label</th>\n",
       "      <th>description</th>\n",
       "      <th>data_type</th>\n",
       "      <th>crs_name</th>\n",
       "      <th>crs_code</th>\n",
       "      <th>num_dimensions</th>\n",
       "      <th>raster_width</th>\n",
       "      <th>raster_cell_width</th>\n",
       "      <th>raster_height</th>\n",
       "      <th>raster_cell_height</th>\n",
       "      <th>raster_nodata_value</th>\n",
       "      <th>min_lon</th>\n",
       "      <th>max_lon</th>\n",
       "      <th>min_lat</th>\n",
       "      <th>max_lat</th>\n",
       "      <th>source_name</th>\n",
       "      <th>source_url</th>\n",
       "      <th>data_process_summary</th>\n",
       "    </tr>\n",
       "  </thead>\n",
       "  <tbody>\n",
       "    <tr>\n",
       "      <th>0</th>\n",
       "      <td></td>\n",
       "      <td>mli_adm.tif</td>\n",
       "      <td></td>\n",
       "      <td></td>\n",
       "      <td>RasterDataset</td>\n",
       "      <td>World_Mollweide</td>\n",
       "      <td>54009</td>\n",
       "      <td>1</td>\n",
       "      <td>6464</td>\n",
       "      <td>250.0</td>\n",
       "      <td>7204</td>\n",
       "      <td>250.0</td>\n",
       "      <td>-200.0</td>\n",
       "      <td>-12.746095</td>\n",
       "      <td>4.390086</td>\n",
       "      <td>10.154247</td>\n",
       "      <td>25.005682</td>\n",
       "      <td></td>\n",
       "      <td></td>\n",
       "      <td></td>\n",
       "    </tr>\n",
       "  </tbody>\n",
       "</table>\n",
       "</div>"
      ],
      "text/plain": [
       "  dir   layer_name layer_label description      data_type         crs_name  \\\n",
       "0      mli_adm.tif                          RasterDataset  World_Mollweide   \n",
       "\n",
       "  crs_code num_dimensions raster_width  raster_cell_width raster_height  \\\n",
       "0    54009              1         6464              250.0          7204   \n",
       "\n",
       "   raster_cell_height  raster_nodata_value    min_lon   max_lon    min_lat  \\\n",
       "0               250.0               -200.0 -12.746095  4.390086  10.154247   \n",
       "\n",
       "     max_lat source_name source_url data_process_summary  \n",
       "0  25.005682                                              "
      ]
     },
     "execution_count": 20,
     "metadata": {},
     "output_type": "execute_result"
    }
   ],
   "source": [
    "raster_adm_summary = layer_summaries[layer_summaries['layer_name'].str.contains(\"adm\")]\n",
    "raster_adm_summary"
   ]
  },
  {
   "cell_type": "code",
   "execution_count": 144,
   "metadata": {},
   "outputs": [
    {
     "data": {
      "image/png": "[encoded data removed]",
      "text/plain": [
       "<Figure size 720x720 with 1 Axes>"
      ]
     },
     "metadata": {
      "needs_background": "light"
     },
     "output_type": "display_data"
    }
   ],
   "source": [
    "fig, ax = plt.subplots(figsize=(10, 10))\n",
    "legend_patches = []\n",
    "for ix, summary in raster_adm_summary.iterrows():\n",
    "    array = arcpy.RasterToNumPyArray(arcpy.Raster(summary[\"layer_name\"]))\n",
    "    nodata_value = summary['raster_nodata_value']\n",
    "    if nodata_value != 0:\n",
    "        array = np.where(array == nodata_value, np.nan, array)\n",
    "    mean = np.nanmean(array)\n",
    "    std_range = np.nanstd(array) * 0.5\n",
    "    median = np.nanmedian(array)\n",
    "    max = np.nanmax(array)\n",
    "    min = np.nanmin(array)\n",
    "    my_cmap = plt.get_cmap('Greys')\n",
    "    # my_cmap = matplotlib.colors.ListedColormap(['none', my_colors[ix%5]])    \n",
    "    ax.set_axis_off()\n",
    "    ax.imshow(array, alpha=1, cmap=my_cmap, vmin=mean-std_range, vmax=mean+std_range)\n",
    "    legend_patches.append(mpatches.Patch(color='black', label=summary[\"layer_name\"]))\n",
    "lgd = ax.legend(handles=legend_patches, frameon=False, loc=('center left'), bbox_to_anchor=(1, 0.5))\n",
    "plt.savefig(RESULT_DIR + 'raster_adm_MLI.jpg', dpi=200, bbox_extra_artists=(lgd,), bbox_inches='tight')\n",
    "plt.show()\n",
    "plt.close(fig)"
   ]
  },
  {
   "cell_type": "markdown",
   "metadata": {},
   "source": [
    "### 3.1.2 cpo15"
   ]
  },
  {
   "cell_type": "code",
   "execution_count": 24,
   "metadata": {},
   "outputs": [
    {
     "data": {
      "text/html": [
       "<div>\n",
       "<style scoped>\n",
       "    .dataframe tbody tr th:only-of-type {\n",
       "        vertical-align: middle;\n",
       "    }\n",
       "\n",
       "    .dataframe tbody tr th {\n",
       "        vertical-align: top;\n",
       "    }\n",
       "\n",
       "    .dataframe thead th {\n",
       "        text-align: right;\n",
       "    }\n",
       "</style>\n",
       "<table border=\"1\" class=\"dataframe\">\n",
       "  <thead>\n",
       "    <tr style=\"text-align: right;\">\n",
       "      <th></th>\n",
       "      <th>dir</th>\n",
       "      <th>layer_name</th>\n",
       "      <th>layer_label</th>\n",
       "      <th>description</th>\n",
       "      <th>data_type</th>\n",
       "      <th>crs_name</th>\n",
       "      <th>crs_code</th>\n",
       "      <th>num_dimensions</th>\n",
       "      <th>raster_width</th>\n",
       "      <th>raster_cell_width</th>\n",
       "      <th>raster_height</th>\n",
       "      <th>raster_cell_height</th>\n",
       "      <th>raster_nodata_value</th>\n",
       "      <th>min_lon</th>\n",
       "      <th>max_lon</th>\n",
       "      <th>min_lat</th>\n",
       "      <th>max_lat</th>\n",
       "      <th>source_name</th>\n",
       "      <th>source_url</th>\n",
       "      <th>data_process_summary</th>\n",
       "    </tr>\n",
       "  </thead>\n",
       "  <tbody>\n",
       "    <tr>\n",
       "      <th>1</th>\n",
       "      <td></td>\n",
       "      <td>mli_cpo15.tif</td>\n",
       "      <td></td>\n",
       "      <td></td>\n",
       "      <td>RasterDataset</td>\n",
       "      <td>World_Mollweide</td>\n",
       "      <td>54009</td>\n",
       "      <td>1</td>\n",
       "      <td>6464</td>\n",
       "      <td>250.0</td>\n",
       "      <td>7204</td>\n",
       "      <td>250.0</td>\n",
       "      <td>-200.0</td>\n",
       "      <td>-12.746095</td>\n",
       "      <td>4.390086</td>\n",
       "      <td>10.154247</td>\n",
       "      <td>25.005682</td>\n",
       "      <td></td>\n",
       "      <td></td>\n",
       "      <td></td>\n",
       "    </tr>\n",
       "    <tr>\n",
       "      <th>2</th>\n",
       "      <td></td>\n",
       "      <td>mli_cpo15_urban.tif</td>\n",
       "      <td></td>\n",
       "      <td></td>\n",
       "      <td>RasterDataset</td>\n",
       "      <td>World_Mollweide</td>\n",
       "      <td>54009</td>\n",
       "      <td>1</td>\n",
       "      <td>6464</td>\n",
       "      <td>250.0</td>\n",
       "      <td>7204</td>\n",
       "      <td>250.0</td>\n",
       "      <td>0.0</td>\n",
       "      <td>-12.746095</td>\n",
       "      <td>4.390086</td>\n",
       "      <td>10.154247</td>\n",
       "      <td>25.005682</td>\n",
       "      <td></td>\n",
       "      <td></td>\n",
       "      <td></td>\n",
       "    </tr>\n",
       "    <tr>\n",
       "      <th>3</th>\n",
       "      <td></td>\n",
       "      <td>mli_cpo15_urban_hd.tif</td>\n",
       "      <td></td>\n",
       "      <td></td>\n",
       "      <td>RasterDataset</td>\n",
       "      <td>World_Mollweide</td>\n",
       "      <td>54009</td>\n",
       "      <td>1</td>\n",
       "      <td>6464</td>\n",
       "      <td>250.0</td>\n",
       "      <td>7204</td>\n",
       "      <td>250.0</td>\n",
       "      <td>0.0</td>\n",
       "      <td>-12.746095</td>\n",
       "      <td>4.390086</td>\n",
       "      <td>10.154247</td>\n",
       "      <td>25.005682</td>\n",
       "      <td></td>\n",
       "      <td></td>\n",
       "      <td></td>\n",
       "    </tr>\n",
       "  </tbody>\n",
       "</table>\n",
       "</div>"
      ],
      "text/plain": [
       "  dir              layer_name layer_label description      data_type  \\\n",
       "1               mli_cpo15.tif                          RasterDataset   \n",
       "2         mli_cpo15_urban.tif                          RasterDataset   \n",
       "3      mli_cpo15_urban_hd.tif                          RasterDataset   \n",
       "\n",
       "          crs_name crs_code num_dimensions raster_width  raster_cell_width  \\\n",
       "1  World_Mollweide    54009              1         6464              250.0   \n",
       "2  World_Mollweide    54009              1         6464              250.0   \n",
       "3  World_Mollweide    54009              1         6464              250.0   \n",
       "\n",
       "  raster_height  raster_cell_height  raster_nodata_value    min_lon   max_lon  \\\n",
       "1          7204               250.0               -200.0 -12.746095  4.390086   \n",
       "2          7204               250.0                  0.0 -12.746095  4.390086   \n",
       "3          7204               250.0                  0.0 -12.746095  4.390086   \n",
       "\n",
       "     min_lat    max_lat source_name source_url data_process_summary  \n",
       "1  10.154247  25.005682                                              \n",
       "2  10.154247  25.005682                                              \n",
       "3  10.154247  25.005682                                              "
      ]
     },
     "execution_count": 24,
     "metadata": {},
     "output_type": "execute_result"
    }
   ],
   "source": [
    "raster_cpo15_summary = layer_summaries[layer_summaries['layer_name'].str.contains(\"cpo15\")]\n",
    "raster_cpo15_summary"
   ]
  },
  {
   "cell_type": "code",
   "execution_count": 49,
   "metadata": {},
   "outputs": [
    {
     "data": {
      "image/png": "[encoded data removed]",
      "text/plain": [
       "<Figure size 720x720 with 1 Axes>"
      ]
     },
     "metadata": {
      "needs_background": "light"
     },
     "output_type": "display_data"
    }
   ],
   "source": [
    "fig, ax = plt.subplots(figsize=(10, 10))\n",
    "legend_patches = []\n",
    "for ix, summary in raster_cpo15_summary.iterrows():\n",
    "    array = arcpy.RasterToNumPyArray(arcpy.Raster(summary[\"layer_name\"]))\n",
    "    nodata_value = summary['raster_nodata_value']\n",
    "    if nodata_value != 0:\n",
    "        array = np.where(array == nodata_value, np.nan, array)\n",
    "    mean = np.nanmean(array)\n",
    "    std_range = np.nanstd(array) * 1\n",
    "    my_cmap = matplotlib.colors.ListedColormap(['none', my_colors[ix%5]])    \n",
    "    ax.set_axis_off()\n",
    "    ax.imshow(array, alpha=0.5, cmap=my_cmap, vmin=mean-std_range, vmax=mean+std_range)\n",
    "    legend_patches.append(mpatches.Patch(color=my_colors[ix%5], label=summary[\"layer_name\"]))\n",
    "lgd = ax.legend(handles=legend_patches, frameon=False, loc=('center left'), bbox_to_anchor=(1, 0.5))\n",
    "plt.savefig(RESULT_DIR + 'raster_cop15_MLI.jpg', dpi=200, bbox_extra_artists=(lgd,), bbox_inches='tight')\n",
    "plt.show()\n",
    "plt.close(fig)"
   ]
  },
  {
   "cell_type": "markdown",
   "metadata": {},
   "source": [
    "### 3.1.3 cpo20"
   ]
  },
  {
   "cell_type": "code",
   "execution_count": 26,
   "metadata": {},
   "outputs": [
    {
     "data": {
      "text/html": [
       "<div>\n",
       "<style scoped>\n",
       "    .dataframe tbody tr th:only-of-type {\n",
       "        vertical-align: middle;\n",
       "    }\n",
       "\n",
       "    .dataframe tbody tr th {\n",
       "        vertical-align: top;\n",
       "    }\n",
       "\n",
       "    .dataframe thead th {\n",
       "        text-align: right;\n",
       "    }\n",
       "</style>\n",
       "<table border=\"1\" class=\"dataframe\">\n",
       "  <thead>\n",
       "    <tr style=\"text-align: right;\">\n",
       "      <th></th>\n",
       "      <th>dir</th>\n",
       "      <th>layer_name</th>\n",
       "      <th>layer_label</th>\n",
       "      <th>description</th>\n",
       "      <th>data_type</th>\n",
       "      <th>crs_name</th>\n",
       "      <th>crs_code</th>\n",
       "      <th>num_dimensions</th>\n",
       "      <th>raster_width</th>\n",
       "      <th>raster_cell_width</th>\n",
       "      <th>raster_height</th>\n",
       "      <th>raster_cell_height</th>\n",
       "      <th>raster_nodata_value</th>\n",
       "      <th>min_lon</th>\n",
       "      <th>max_lon</th>\n",
       "      <th>min_lat</th>\n",
       "      <th>max_lat</th>\n",
       "      <th>source_name</th>\n",
       "      <th>source_url</th>\n",
       "      <th>data_process_summary</th>\n",
       "    </tr>\n",
       "  </thead>\n",
       "  <tbody>\n",
       "    <tr>\n",
       "      <th>4</th>\n",
       "      <td></td>\n",
       "      <td>mli_cpo20.tif</td>\n",
       "      <td></td>\n",
       "      <td></td>\n",
       "      <td>RasterDataset</td>\n",
       "      <td>World_Mollweide</td>\n",
       "      <td>54009</td>\n",
       "      <td>1</td>\n",
       "      <td>6464</td>\n",
       "      <td>250.0</td>\n",
       "      <td>7204</td>\n",
       "      <td>250.0</td>\n",
       "      <td>-200.0</td>\n",
       "      <td>-12.746095</td>\n",
       "      <td>4.390086</td>\n",
       "      <td>10.154247</td>\n",
       "      <td>25.005682</td>\n",
       "      <td></td>\n",
       "      <td></td>\n",
       "      <td></td>\n",
       "    </tr>\n",
       "    <tr>\n",
       "      <th>5</th>\n",
       "      <td></td>\n",
       "      <td>mli_cpo20_urban.tif</td>\n",
       "      <td></td>\n",
       "      <td></td>\n",
       "      <td>RasterDataset</td>\n",
       "      <td>World_Mollweide</td>\n",
       "      <td>54009</td>\n",
       "      <td>1</td>\n",
       "      <td>6464</td>\n",
       "      <td>250.0</td>\n",
       "      <td>7204</td>\n",
       "      <td>250.0</td>\n",
       "      <td>0.0</td>\n",
       "      <td>-12.746095</td>\n",
       "      <td>4.390086</td>\n",
       "      <td>10.154247</td>\n",
       "      <td>25.005682</td>\n",
       "      <td></td>\n",
       "      <td></td>\n",
       "      <td></td>\n",
       "    </tr>\n",
       "    <tr>\n",
       "      <th>6</th>\n",
       "      <td></td>\n",
       "      <td>mli_cpo20_urban_hd.tif</td>\n",
       "      <td></td>\n",
       "      <td></td>\n",
       "      <td>RasterDataset</td>\n",
       "      <td>World_Mollweide</td>\n",
       "      <td>54009</td>\n",
       "      <td>1</td>\n",
       "      <td>6464</td>\n",
       "      <td>250.0</td>\n",
       "      <td>7204</td>\n",
       "      <td>250.0</td>\n",
       "      <td>0.0</td>\n",
       "      <td>-12.746095</td>\n",
       "      <td>4.390086</td>\n",
       "      <td>10.154247</td>\n",
       "      <td>25.005682</td>\n",
       "      <td></td>\n",
       "      <td></td>\n",
       "      <td></td>\n",
       "    </tr>\n",
       "  </tbody>\n",
       "</table>\n",
       "</div>"
      ],
      "text/plain": [
       "  dir              layer_name layer_label description      data_type  \\\n",
       "4               mli_cpo20.tif                          RasterDataset   \n",
       "5         mli_cpo20_urban.tif                          RasterDataset   \n",
       "6      mli_cpo20_urban_hd.tif                          RasterDataset   \n",
       "\n",
       "          crs_name crs_code num_dimensions raster_width  raster_cell_width  \\\n",
       "4  World_Mollweide    54009              1         6464              250.0   \n",
       "5  World_Mollweide    54009              1         6464              250.0   \n",
       "6  World_Mollweide    54009              1         6464              250.0   \n",
       "\n",
       "  raster_height  raster_cell_height  raster_nodata_value    min_lon   max_lon  \\\n",
       "4          7204               250.0               -200.0 -12.746095  4.390086   \n",
       "5          7204               250.0                  0.0 -12.746095  4.390086   \n",
       "6          7204               250.0                  0.0 -12.746095  4.390086   \n",
       "\n",
       "     min_lat    max_lat source_name source_url data_process_summary  \n",
       "4  10.154247  25.005682                                              \n",
       "5  10.154247  25.005682                                              \n",
       "6  10.154247  25.005682                                              "
      ]
     },
     "execution_count": 26,
     "metadata": {},
     "output_type": "execute_result"
    }
   ],
   "source": [
    "raster_cpo20_summary = layer_summaries[layer_summaries['layer_name'].str.contains(\"cpo20\")]\n",
    "raster_cpo20_summary"
   ]
  },
  {
   "cell_type": "code",
   "execution_count": 48,
   "metadata": {},
   "outputs": [
    {
     "data": {
      "image/png": "[encoded data removed]",
      "text/plain": [
       "<Figure size 720x720 with 1 Axes>"
      ]
     },
     "metadata": {
      "needs_background": "light"
     },
     "output_type": "display_data"
    }
   ],
   "source": [
    "fig, ax = plt.subplots(figsize=(10, 10))\n",
    "legend_patches = []\n",
    "for ix, summary in raster_cpo20_summary.iterrows():\n",
    "    array = arcpy.RasterToNumPyArray(arcpy.Raster(summary[\"layer_name\"]))\n",
    "    nodata_value = summary['raster_nodata_value']\n",
    "    if nodata_value != 0:\n",
    "        array = np.where(array == nodata_value, np.nan, array)\n",
    "    mean = np.nanmean(array)\n",
    "    std_range = np.nanstd(array) * 1\n",
    "    my_cmap = matplotlib.colors.ListedColormap(['none', my_colors[ix%5]])    \n",
    "    ax.set_axis_off()\n",
    "    ax.imshow(array, alpha=0.5, cmap=my_cmap, vmin=mean-std_range, vmax=mean+std_range)\n",
    "    legend_patches.append(mpatches.Patch(color=my_colors[ix%5], label=summary[\"layer_name\"]))\n",
    "lgd = ax.legend(handles=legend_patches, frameon=False, loc=('center left'), bbox_to_anchor=(1, 0.5))\n",
    "plt.savefig(RESULT_DIR + 'raster_cop20_MLI.jpg', dpi=200, bbox_extra_artists=(lgd,), bbox_inches='tight')\n",
    "plt.show()\n",
    "plt.close(fig)"
   ]
  },
  {
   "cell_type": "markdown",
   "metadata": {},
   "source": [
    "### 3.1.4. des"
   ]
  },
  {
   "cell_type": "code",
   "execution_count": 30,
   "metadata": {},
   "outputs": [
    {
     "data": {
      "text/html": [
       "<div>\n",
       "<style scoped>\n",
       "    .dataframe tbody tr th:only-of-type {\n",
       "        vertical-align: middle;\n",
       "    }\n",
       "\n",
       "    .dataframe tbody tr th {\n",
       "        vertical-align: top;\n",
       "    }\n",
       "\n",
       "    .dataframe thead th {\n",
       "        text-align: right;\n",
       "    }\n",
       "</style>\n",
       "<table border=\"1\" class=\"dataframe\">\n",
       "  <thead>\n",
       "    <tr style=\"text-align: right;\">\n",
       "      <th></th>\n",
       "      <th>dir</th>\n",
       "      <th>layer_name</th>\n",
       "      <th>layer_label</th>\n",
       "      <th>description</th>\n",
       "      <th>data_type</th>\n",
       "      <th>crs_name</th>\n",
       "      <th>crs_code</th>\n",
       "      <th>num_dimensions</th>\n",
       "      <th>raster_width</th>\n",
       "      <th>raster_cell_width</th>\n",
       "      <th>raster_height</th>\n",
       "      <th>raster_cell_height</th>\n",
       "      <th>raster_nodata_value</th>\n",
       "      <th>min_lon</th>\n",
       "      <th>max_lon</th>\n",
       "      <th>min_lat</th>\n",
       "      <th>max_lat</th>\n",
       "      <th>source_name</th>\n",
       "      <th>source_url</th>\n",
       "      <th>data_process_summary</th>\n",
       "    </tr>\n",
       "  </thead>\n",
       "  <tbody>\n",
       "    <tr>\n",
       "      <th>7</th>\n",
       "      <td></td>\n",
       "      <td>mli_des.tif</td>\n",
       "      <td></td>\n",
       "      <td></td>\n",
       "      <td>RasterDataset</td>\n",
       "      <td>World_Mollweide</td>\n",
       "      <td>54009</td>\n",
       "      <td>1</td>\n",
       "      <td>6464</td>\n",
       "      <td>250.0</td>\n",
       "      <td>7204</td>\n",
       "      <td>250.0</td>\n",
       "      <td>-200.0</td>\n",
       "      <td>-12.746095</td>\n",
       "      <td>4.390086</td>\n",
       "      <td>10.154247</td>\n",
       "      <td>25.005682</td>\n",
       "      <td></td>\n",
       "      <td></td>\n",
       "      <td></td>\n",
       "    </tr>\n",
       "  </tbody>\n",
       "</table>\n",
       "</div>"
      ],
      "text/plain": [
       "  dir   layer_name layer_label description      data_type         crs_name  \\\n",
       "7      mli_des.tif                          RasterDataset  World_Mollweide   \n",
       "\n",
       "  crs_code num_dimensions raster_width  raster_cell_width raster_height  \\\n",
       "7    54009              1         6464              250.0          7204   \n",
       "\n",
       "   raster_cell_height  raster_nodata_value    min_lon   max_lon    min_lat  \\\n",
       "7               250.0               -200.0 -12.746095  4.390086  10.154247   \n",
       "\n",
       "     max_lat source_name source_url data_process_summary  \n",
       "7  25.005682                                              "
      ]
     },
     "execution_count": 30,
     "metadata": {},
     "output_type": "execute_result"
    }
   ],
   "source": [
    "raster_des_summary = layer_summaries[layer_summaries['layer_name'].str.contains(\"des\")]\n",
    "raster_des_summary"
   ]
  },
  {
   "cell_type": "code",
   "execution_count": 140,
   "metadata": {},
   "outputs": [
    {
     "data": {
      "image/png": "[encoded data removed]",
      "text/plain": [
       "<Figure size 720x720 with 1 Axes>"
      ]
     },
     "metadata": {
      "needs_background": "light"
     },
     "output_type": "display_data"
    }
   ],
   "source": [
    "fig, ax = plt.subplots(figsize=(10, 10))\n",
    "legend_patches = []\n",
    "for ix, summary in raster_des_summary.iterrows():\n",
    "    array = arcpy.RasterToNumPyArray(arcpy.Raster(summary[\"layer_name\"]))\n",
    "    nodata_value = summary['raster_nodata_value']\n",
    "    if nodata_value != 0:\n",
    "        array = np.where(array == nodata_value, np.nan, array)\n",
    "    mean = np.nanmean(array)\n",
    "    std_range = np.nanstd(array) * 0.5\n",
    "    median = np.nanmedian(array)\n",
    "    max = np.nanmax(array)\n",
    "    min = np.nanmin(array)\n",
    "    my_cmap = plt.get_cmap('Spectral')\n",
    "    # my_cmap = matplotlib.colors.ListedColormap(['none', my_colors[ix%5]])    \n",
    "    ax.set_axis_off()\n",
    "    ax.imshow(array, alpha=1, cmap=my_cmap, vmin=mean-std_range, vmax=mean+std_range)\n",
    "    legend_patches.append(mpatches.Patch(color='gray', label=summary[\"layer_name\"]))\n",
    "lgd = ax.legend(handles=legend_patches, frameon=False, loc=('center left'), bbox_to_anchor=(1, 0.5))\n",
    "plt.savefig(RESULT_DIR + 'raster_des_MLI.jpg', dpi=200, bbox_extra_artists=(lgd,), bbox_inches='tight')\n",
    "plt.show()\n",
    "plt.close(fig)"
   ]
  },
  {
   "cell_type": "markdown",
   "metadata": {},
   "source": [
    "### 3.1.5. ele"
   ]
  },
  {
   "cell_type": "code",
   "execution_count": 32,
   "metadata": {},
   "outputs": [
    {
     "data": {
      "text/html": [
       "<div>\n",
       "<style scoped>\n",
       "    .dataframe tbody tr th:only-of-type {\n",
       "        vertical-align: middle;\n",
       "    }\n",
       "\n",
       "    .dataframe tbody tr th {\n",
       "        vertical-align: top;\n",
       "    }\n",
       "\n",
       "    .dataframe thead th {\n",
       "        text-align: right;\n",
       "    }\n",
       "</style>\n",
       "<table border=\"1\" class=\"dataframe\">\n",
       "  <thead>\n",
       "    <tr style=\"text-align: right;\">\n",
       "      <th></th>\n",
       "      <th>dir</th>\n",
       "      <th>layer_name</th>\n",
       "      <th>layer_label</th>\n",
       "      <th>description</th>\n",
       "      <th>data_type</th>\n",
       "      <th>crs_name</th>\n",
       "      <th>crs_code</th>\n",
       "      <th>num_dimensions</th>\n",
       "      <th>raster_width</th>\n",
       "      <th>raster_cell_width</th>\n",
       "      <th>raster_height</th>\n",
       "      <th>raster_cell_height</th>\n",
       "      <th>raster_nodata_value</th>\n",
       "      <th>min_lon</th>\n",
       "      <th>max_lon</th>\n",
       "      <th>min_lat</th>\n",
       "      <th>max_lat</th>\n",
       "      <th>source_name</th>\n",
       "      <th>source_url</th>\n",
       "      <th>data_process_summary</th>\n",
       "    </tr>\n",
       "  </thead>\n",
       "  <tbody>\n",
       "    <tr>\n",
       "      <th>8</th>\n",
       "      <td></td>\n",
       "      <td>mli_ele.tif</td>\n",
       "      <td></td>\n",
       "      <td></td>\n",
       "      <td>RasterDataset</td>\n",
       "      <td>World_Mollweide</td>\n",
       "      <td>54009</td>\n",
       "      <td>1</td>\n",
       "      <td>6464</td>\n",
       "      <td>250.0</td>\n",
       "      <td>7204</td>\n",
       "      <td>250.0</td>\n",
       "      <td>-200.0</td>\n",
       "      <td>-12.746095</td>\n",
       "      <td>4.390086</td>\n",
       "      <td>10.154247</td>\n",
       "      <td>25.005682</td>\n",
       "      <td></td>\n",
       "      <td></td>\n",
       "      <td></td>\n",
       "    </tr>\n",
       "  </tbody>\n",
       "</table>\n",
       "</div>"
      ],
      "text/plain": [
       "  dir   layer_name layer_label description      data_type         crs_name  \\\n",
       "8      mli_ele.tif                          RasterDataset  World_Mollweide   \n",
       "\n",
       "  crs_code num_dimensions raster_width  raster_cell_width raster_height  \\\n",
       "8    54009              1         6464              250.0          7204   \n",
       "\n",
       "   raster_cell_height  raster_nodata_value    min_lon   max_lon    min_lat  \\\n",
       "8               250.0               -200.0 -12.746095  4.390086  10.154247   \n",
       "\n",
       "     max_lat source_name source_url data_process_summary  \n",
       "8  25.005682                                              "
      ]
     },
     "execution_count": 32,
     "metadata": {},
     "output_type": "execute_result"
    }
   ],
   "source": [
    "raster_ele_summary = layer_summaries[layer_summaries['layer_name'].str.contains(\"ele\")]\n",
    "raster_ele_summary"
   ]
  },
  {
   "cell_type": "code",
   "execution_count": 134,
   "metadata": {},
   "outputs": [
    {
     "data": {
      "image/png": "[encoded data removed]",
      "text/plain": [
       "<Figure size 720x720 with 1 Axes>"
      ]
     },
     "metadata": {
      "needs_background": "light"
     },
     "output_type": "display_data"
    }
   ],
   "source": [
    "fig, ax = plt.subplots(figsize=(10, 10))\n",
    "legend_patches = []\n",
    "for ix, summary in raster_ele_summary.iterrows():\n",
    "    array = arcpy.RasterToNumPyArray(arcpy.Raster(summary[\"layer_name\"]))\n",
    "    nodata_value = summary['raster_nodata_value']\n",
    "    if nodata_value != 0:\n",
    "        array = np.where(array == nodata_value, np.nan, array)\n",
    "    mean = np.nanmean(array)\n",
    "    std_range = np.nanstd(array) * 0.5\n",
    "    median = np.nanmedian(array)\n",
    "    max = np.nanmax(array)\n",
    "    min = np.nanmin(array)\n",
    "    my_cmap = plt.get_cmap('gist_earth')\n",
    "    # my_cmap = matplotlib.colors.ListedColormap(['none', my_colors[ix%5]])    \n",
    "    ax.set_axis_off()\n",
    "    ax.imshow(array, alpha=1, cmap=my_cmap, vmin=mean-std_range, vmax=mean+std_range)\n",
    "    legend_patches.append(mpatches.Patch(color=my_colors[ix%5], label=summary[\"layer_name\"]))\n",
    "lgd = ax.legend(handles=legend_patches, frameon=False, loc=('center left'), bbox_to_anchor=(1, 0.5))\n",
    "plt.savefig(RESULT_DIR + 'raster_ele_MLI.jpg', dpi=200, bbox_extra_artists=(lgd,), bbox_inches='tight')\n",
    "plt.show()\n",
    "plt.close(fig)"
   ]
  },
  {
   "cell_type": "markdown",
   "metadata": {},
   "source": [
    "### 3.1.6. gbu"
   ]
  },
  {
   "cell_type": "code",
   "execution_count": 34,
   "metadata": {},
   "outputs": [
    {
     "data": {
      "text/html": [
       "<div>\n",
       "<style scoped>\n",
       "    .dataframe tbody tr th:only-of-type {\n",
       "        vertical-align: middle;\n",
       "    }\n",
       "\n",
       "    .dataframe tbody tr th {\n",
       "        vertical-align: top;\n",
       "    }\n",
       "\n",
       "    .dataframe thead th {\n",
       "        text-align: right;\n",
       "    }\n",
       "</style>\n",
       "<table border=\"1\" class=\"dataframe\">\n",
       "  <thead>\n",
       "    <tr style=\"text-align: right;\">\n",
       "      <th></th>\n",
       "      <th>dir</th>\n",
       "      <th>layer_name</th>\n",
       "      <th>layer_label</th>\n",
       "      <th>description</th>\n",
       "      <th>data_type</th>\n",
       "      <th>crs_name</th>\n",
       "      <th>crs_code</th>\n",
       "      <th>num_dimensions</th>\n",
       "      <th>raster_width</th>\n",
       "      <th>raster_cell_width</th>\n",
       "      <th>raster_height</th>\n",
       "      <th>raster_cell_height</th>\n",
       "      <th>raster_nodata_value</th>\n",
       "      <th>min_lon</th>\n",
       "      <th>max_lon</th>\n",
       "      <th>min_lat</th>\n",
       "      <th>max_lat</th>\n",
       "      <th>source_name</th>\n",
       "      <th>source_url</th>\n",
       "      <th>data_process_summary</th>\n",
       "    </tr>\n",
       "  </thead>\n",
       "  <tbody>\n",
       "    <tr>\n",
       "      <th>9</th>\n",
       "      <td></td>\n",
       "      <td>mli_gbu.tif</td>\n",
       "      <td></td>\n",
       "      <td></td>\n",
       "      <td>RasterDataset</td>\n",
       "      <td>World_Mollweide</td>\n",
       "      <td>54009</td>\n",
       "      <td>1</td>\n",
       "      <td>6464</td>\n",
       "      <td>250.0</td>\n",
       "      <td>7204</td>\n",
       "      <td>250.0</td>\n",
       "      <td>-200.0</td>\n",
       "      <td>-12.746095</td>\n",
       "      <td>4.390086</td>\n",
       "      <td>10.154247</td>\n",
       "      <td>25.005682</td>\n",
       "      <td></td>\n",
       "      <td></td>\n",
       "      <td></td>\n",
       "    </tr>\n",
       "  </tbody>\n",
       "</table>\n",
       "</div>"
      ],
      "text/plain": [
       "  dir   layer_name layer_label description      data_type         crs_name  \\\n",
       "9      mli_gbu.tif                          RasterDataset  World_Mollweide   \n",
       "\n",
       "  crs_code num_dimensions raster_width  raster_cell_width raster_height  \\\n",
       "9    54009              1         6464              250.0          7204   \n",
       "\n",
       "   raster_cell_height  raster_nodata_value    min_lon   max_lon    min_lat  \\\n",
       "9               250.0               -200.0 -12.746095  4.390086  10.154247   \n",
       "\n",
       "     max_lat source_name source_url data_process_summary  \n",
       "9  25.005682                                              "
      ]
     },
     "execution_count": 34,
     "metadata": {},
     "output_type": "execute_result"
    }
   ],
   "source": [
    "raster_gbu_summary = layer_summaries[layer_summaries['layer_name'].str.contains(\"gbu\")]\n",
    "raster_gbu_summary"
   ]
  },
  {
   "cell_type": "code",
   "execution_count": 42,
   "metadata": {},
   "outputs": [
    {
     "data": {
      "image/png": "[encoded data removed]",
      "text/plain": [
       "<Figure size 720x720 with 1 Axes>"
      ]
     },
     "metadata": {
      "needs_background": "light"
     },
     "output_type": "display_data"
    }
   ],
   "source": [
    "fig, ax = plt.subplots(figsize=(10, 10))\n",
    "legend_patches = []\n",
    "for ix, summary in raster_gbu_summary.iterrows():\n",
    "    array = arcpy.RasterToNumPyArray(arcpy.Raster(summary[\"layer_name\"]))\n",
    "    nodata_value = summary['raster_nodata_value']\n",
    "    if nodata_value != 0:\n",
    "        array = np.where(array == nodata_value, np.nan, array)\n",
    "    mean = np.nanmean(array)\n",
    "    std_range = np.nanstd(array) * 1\n",
    "    my_cmap = matplotlib.colors.ListedColormap(['none', my_colors[ix%5]])    \n",
    "    ax.set_axis_off()\n",
    "    ax.imshow(array, alpha=1, cmap=my_cmap, vmin=mean-std_range, vmax=mean+std_range)\n",
    "    legend_patches.append(mpatches.Patch(color=my_colors[ix%5], label=summary[\"layer_name\"]))\n",
    "lgd = ax.legend(handles=legend_patches, frameon=False, loc=('center left'), bbox_to_anchor=(1, 0.5))\n",
    "plt.savefig(RESULT_DIR + 'raster_gbu_MLI.jpg', dpi=200, bbox_extra_artists=(lgd,), bbox_inches='tight')\n",
    "plt.show()\n",
    "plt.close(fig)"
   ]
  },
  {
   "cell_type": "markdown",
   "metadata": {},
   "source": [
    "### 3.1.7. gpo"
   ]
  },
  {
   "cell_type": "code",
   "execution_count": 51,
   "metadata": {},
   "outputs": [
    {
     "data": {
      "text/html": [
       "<div>\n",
       "<style scoped>\n",
       "    .dataframe tbody tr th:only-of-type {\n",
       "        vertical-align: middle;\n",
       "    }\n",
       "\n",
       "    .dataframe tbody tr th {\n",
       "        vertical-align: top;\n",
       "    }\n",
       "\n",
       "    .dataframe thead th {\n",
       "        text-align: right;\n",
       "    }\n",
       "</style>\n",
       "<table border=\"1\" class=\"dataframe\">\n",
       "  <thead>\n",
       "    <tr style=\"text-align: right;\">\n",
       "      <th></th>\n",
       "      <th>dir</th>\n",
       "      <th>layer_name</th>\n",
       "      <th>layer_label</th>\n",
       "      <th>description</th>\n",
       "      <th>data_type</th>\n",
       "      <th>crs_name</th>\n",
       "      <th>crs_code</th>\n",
       "      <th>num_dimensions</th>\n",
       "      <th>raster_width</th>\n",
       "      <th>raster_cell_width</th>\n",
       "      <th>raster_height</th>\n",
       "      <th>raster_cell_height</th>\n",
       "      <th>raster_nodata_value</th>\n",
       "      <th>min_lon</th>\n",
       "      <th>max_lon</th>\n",
       "      <th>min_lat</th>\n",
       "      <th>max_lat</th>\n",
       "      <th>source_name</th>\n",
       "      <th>source_url</th>\n",
       "      <th>data_process_summary</th>\n",
       "    </tr>\n",
       "  </thead>\n",
       "  <tbody>\n",
       "    <tr>\n",
       "      <th>10</th>\n",
       "      <td></td>\n",
       "      <td>mli_gpo.tif</td>\n",
       "      <td></td>\n",
       "      <td></td>\n",
       "      <td>RasterDataset</td>\n",
       "      <td>World_Mollweide</td>\n",
       "      <td>54009</td>\n",
       "      <td>1</td>\n",
       "      <td>6464</td>\n",
       "      <td>250.0</td>\n",
       "      <td>7204</td>\n",
       "      <td>250.0</td>\n",
       "      <td>-200.0</td>\n",
       "      <td>-12.746095</td>\n",
       "      <td>4.390086</td>\n",
       "      <td>10.154247</td>\n",
       "      <td>25.005682</td>\n",
       "      <td></td>\n",
       "      <td></td>\n",
       "      <td></td>\n",
       "    </tr>\n",
       "    <tr>\n",
       "      <th>11</th>\n",
       "      <td></td>\n",
       "      <td>mli_gpo_urban.tif</td>\n",
       "      <td></td>\n",
       "      <td></td>\n",
       "      <td>RasterDataset</td>\n",
       "      <td>World_Mollweide</td>\n",
       "      <td>54009</td>\n",
       "      <td>1</td>\n",
       "      <td>6464</td>\n",
       "      <td>250.0</td>\n",
       "      <td>7204</td>\n",
       "      <td>250.0</td>\n",
       "      <td>0.0</td>\n",
       "      <td>-12.746095</td>\n",
       "      <td>4.390086</td>\n",
       "      <td>10.154247</td>\n",
       "      <td>25.005682</td>\n",
       "      <td></td>\n",
       "      <td></td>\n",
       "      <td></td>\n",
       "    </tr>\n",
       "    <tr>\n",
       "      <th>12</th>\n",
       "      <td></td>\n",
       "      <td>mli_gpo_urban_hd.tif</td>\n",
       "      <td></td>\n",
       "      <td></td>\n",
       "      <td>RasterDataset</td>\n",
       "      <td>World_Mollweide</td>\n",
       "      <td>54009</td>\n",
       "      <td>1</td>\n",
       "      <td>6464</td>\n",
       "      <td>250.0</td>\n",
       "      <td>7204</td>\n",
       "      <td>250.0</td>\n",
       "      <td>0.0</td>\n",
       "      <td>-12.746095</td>\n",
       "      <td>4.390086</td>\n",
       "      <td>10.154247</td>\n",
       "      <td>25.005682</td>\n",
       "      <td></td>\n",
       "      <td></td>\n",
       "      <td></td>\n",
       "    </tr>\n",
       "  </tbody>\n",
       "</table>\n",
       "</div>"
      ],
      "text/plain": [
       "   dir            layer_name layer_label description      data_type  \\\n",
       "10               mli_gpo.tif                          RasterDataset   \n",
       "11         mli_gpo_urban.tif                          RasterDataset   \n",
       "12      mli_gpo_urban_hd.tif                          RasterDataset   \n",
       "\n",
       "           crs_name crs_code num_dimensions raster_width  raster_cell_width  \\\n",
       "10  World_Mollweide    54009              1         6464              250.0   \n",
       "11  World_Mollweide    54009              1         6464              250.0   \n",
       "12  World_Mollweide    54009              1         6464              250.0   \n",
       "\n",
       "   raster_height  raster_cell_height  raster_nodata_value    min_lon  \\\n",
       "10          7204               250.0               -200.0 -12.746095   \n",
       "11          7204               250.0                  0.0 -12.746095   \n",
       "12          7204               250.0                  0.0 -12.746095   \n",
       "\n",
       "     max_lon    min_lat    max_lat source_name source_url data_process_summary  \n",
       "10  4.390086  10.154247  25.005682                                              \n",
       "11  4.390086  10.154247  25.005682                                              \n",
       "12  4.390086  10.154247  25.005682                                              "
      ]
     },
     "execution_count": 51,
     "metadata": {},
     "output_type": "execute_result"
    }
   ],
   "source": [
    "raster_gpo_summary = layer_summaries[layer_summaries['layer_name'].str.contains(\"gpo\")]\n",
    "raster_gpo_summary"
   ]
  },
  {
   "cell_type": "code",
   "execution_count": 52,
   "metadata": {},
   "outputs": [
    {
     "data": {
      "image/png": "[encoded data removed]",
      "text/plain": [
       "<Figure size 720x720 with 1 Axes>"
      ]
     },
     "metadata": {
      "needs_background": "light"
     },
     "output_type": "display_data"
    }
   ],
   "source": [
    "fig, ax = plt.subplots(figsize=(10, 10))\n",
    "legend_patches = []\n",
    "for ix, summary in raster_gpo_summary.iterrows():\n",
    "    array = arcpy.RasterToNumPyArray(arcpy.Raster(summary[\"layer_name\"]))\n",
    "    nodata_value = summary['raster_nodata_value']\n",
    "    if nodata_value != 0:\n",
    "        array = np.where(array == nodata_value, np.nan, array)\n",
    "    mean = np.nanmean(array)\n",
    "    std_range = np.nanstd(array) * 1\n",
    "    my_cmap = matplotlib.colors.ListedColormap(['none', my_colors[ix%5]])    \n",
    "    ax.set_axis_off()\n",
    "    ax.imshow(array, alpha=0.5, cmap=my_cmap, vmin=mean-std_range, vmax=mean+std_range)\n",
    "    legend_patches.append(mpatches.Patch(color=my_colors[ix%5], label=summary[\"layer_name\"]))\n",
    "lgd = ax.legend(handles=legend_patches, frameon=False, loc=('center left'), bbox_to_anchor=(1, 0.5))\n",
    "plt.savefig(RESULT_DIR + 'raster_gpo_MLI.jpg', dpi=200, bbox_extra_artists=(lgd,), bbox_inches='tight')\n",
    "plt.show()\n",
    "plt.close(fig)"
   ]
  },
  {
   "cell_type": "markdown",
   "metadata": {},
   "source": [
    "### 3.1.8. gsmod"
   ]
  },
  {
   "cell_type": "code",
   "execution_count": 53,
   "metadata": {},
   "outputs": [
    {
     "data": {
      "text/html": [
       "<div>\n",
       "<style scoped>\n",
       "    .dataframe tbody tr th:only-of-type {\n",
       "        vertical-align: middle;\n",
       "    }\n",
       "\n",
       "    .dataframe tbody tr th {\n",
       "        vertical-align: top;\n",
       "    }\n",
       "\n",
       "    .dataframe thead th {\n",
       "        text-align: right;\n",
       "    }\n",
       "</style>\n",
       "<table border=\"1\" class=\"dataframe\">\n",
       "  <thead>\n",
       "    <tr style=\"text-align: right;\">\n",
       "      <th></th>\n",
       "      <th>dir</th>\n",
       "      <th>layer_name</th>\n",
       "      <th>layer_label</th>\n",
       "      <th>description</th>\n",
       "      <th>data_type</th>\n",
       "      <th>crs_name</th>\n",
       "      <th>crs_code</th>\n",
       "      <th>num_dimensions</th>\n",
       "      <th>raster_width</th>\n",
       "      <th>raster_cell_width</th>\n",
       "      <th>raster_height</th>\n",
       "      <th>raster_cell_height</th>\n",
       "      <th>raster_nodata_value</th>\n",
       "      <th>min_lon</th>\n",
       "      <th>max_lon</th>\n",
       "      <th>min_lat</th>\n",
       "      <th>max_lat</th>\n",
       "      <th>source_name</th>\n",
       "      <th>source_url</th>\n",
       "      <th>data_process_summary</th>\n",
       "    </tr>\n",
       "  </thead>\n",
       "  <tbody>\n",
       "    <tr>\n",
       "      <th>13</th>\n",
       "      <td></td>\n",
       "      <td>mli_gsmod.tif</td>\n",
       "      <td></td>\n",
       "      <td></td>\n",
       "      <td>RasterDataset</td>\n",
       "      <td>World_Mollweide</td>\n",
       "      <td>54009</td>\n",
       "      <td>1</td>\n",
       "      <td>6464</td>\n",
       "      <td>250.0</td>\n",
       "      <td>7204</td>\n",
       "      <td>250.0</td>\n",
       "      <td>-200.0</td>\n",
       "      <td>-12.746095</td>\n",
       "      <td>4.390086</td>\n",
       "      <td>10.154247</td>\n",
       "      <td>25.005682</td>\n",
       "      <td></td>\n",
       "      <td></td>\n",
       "      <td></td>\n",
       "    </tr>\n",
       "  </tbody>\n",
       "</table>\n",
       "</div>"
      ],
      "text/plain": [
       "   dir     layer_name layer_label description      data_type         crs_name  \\\n",
       "13      mli_gsmod.tif                          RasterDataset  World_Mollweide   \n",
       "\n",
       "   crs_code num_dimensions raster_width  raster_cell_width raster_height  \\\n",
       "13    54009              1         6464              250.0          7204   \n",
       "\n",
       "    raster_cell_height  raster_nodata_value    min_lon   max_lon    min_lat  \\\n",
       "13               250.0               -200.0 -12.746095  4.390086  10.154247   \n",
       "\n",
       "      max_lat source_name source_url data_process_summary  \n",
       "13  25.005682                                              "
      ]
     },
     "execution_count": 53,
     "metadata": {},
     "output_type": "execute_result"
    }
   ],
   "source": [
    "raster_gsmod_summary = layer_summaries[layer_summaries['layer_name'].str.contains(\"gsmod\")]\n",
    "raster_gsmod_summary"
   ]
  },
  {
   "cell_type": "code",
   "execution_count": 130,
   "metadata": {},
   "outputs": [
    {
     "data": {
      "image/png": "[encoded data removed]",
      "text/plain": [
       "<Figure size 720x720 with 1 Axes>"
      ]
     },
     "metadata": {
      "needs_background": "light"
     },
     "output_type": "display_data"
    }
   ],
   "source": [
    "fig, ax = plt.subplots(figsize=(10, 10))\n",
    "legend_patches = []\n",
    "for ix, summary in raster_gsmod_summary.iterrows():\n",
    "    array = arcpy.RasterToNumPyArray(arcpy.Raster(summary[\"layer_name\"]))\n",
    "    nodata_value = summary['raster_nodata_value']\n",
    "    if nodata_value != 0:\n",
    "        array = np.where(array == nodata_value, np.nan, array)\n",
    "    mean = np.nanmean(array)\n",
    "    std_range = np.nanstd(array) * 0.5\n",
    "    median = np.nanmedian(array)\n",
    "    max = np.nanmax(array)\n",
    "    min = np.nanmin(array)\n",
    "    my_cmap = matplotlib.colors.ListedColormap(['none', my_colors[ix%5]])    \n",
    "    ax.set_axis_off()\n",
    "    ax.imshow(array, alpha=1, cmap=my_cmap, vmin=mean-std_range, vmax=mean+std_range)\n",
    "    legend_patches.append(mpatches.Patch(color=my_colors[ix%5], label=summary[\"layer_name\"]))\n",
    "lgd = ax.legend(handles=legend_patches, frameon=False, loc=('center left'), bbox_to_anchor=(1, 0.5))\n",
    "plt.savefig(RESULT_DIR + 'raster_gsmod_MLI.jpg', dpi=200, bbox_extra_artists=(lgd,), bbox_inches='tight')\n",
    "plt.show()\n",
    "plt.close(fig)"
   ]
  },
  {
   "cell_type": "markdown",
   "metadata": {},
   "source": [
    "### 3.1.9. slo"
   ]
  },
  {
   "cell_type": "code",
   "execution_count": 55,
   "metadata": {},
   "outputs": [
    {
     "data": {
      "text/html": [
       "<div>\n",
       "<style scoped>\n",
       "    .dataframe tbody tr th:only-of-type {\n",
       "        vertical-align: middle;\n",
       "    }\n",
       "\n",
       "    .dataframe tbody tr th {\n",
       "        vertical-align: top;\n",
       "    }\n",
       "\n",
       "    .dataframe thead th {\n",
       "        text-align: right;\n",
       "    }\n",
       "</style>\n",
       "<table border=\"1\" class=\"dataframe\">\n",
       "  <thead>\n",
       "    <tr style=\"text-align: right;\">\n",
       "      <th></th>\n",
       "      <th>dir</th>\n",
       "      <th>layer_name</th>\n",
       "      <th>layer_label</th>\n",
       "      <th>description</th>\n",
       "      <th>data_type</th>\n",
       "      <th>crs_name</th>\n",
       "      <th>crs_code</th>\n",
       "      <th>num_dimensions</th>\n",
       "      <th>raster_width</th>\n",
       "      <th>raster_cell_width</th>\n",
       "      <th>raster_height</th>\n",
       "      <th>raster_cell_height</th>\n",
       "      <th>raster_nodata_value</th>\n",
       "      <th>min_lon</th>\n",
       "      <th>max_lon</th>\n",
       "      <th>min_lat</th>\n",
       "      <th>max_lat</th>\n",
       "      <th>source_name</th>\n",
       "      <th>source_url</th>\n",
       "      <th>data_process_summary</th>\n",
       "    </tr>\n",
       "  </thead>\n",
       "  <tbody>\n",
       "    <tr>\n",
       "      <th>14</th>\n",
       "      <td></td>\n",
       "      <td>mli_slo.tif</td>\n",
       "      <td></td>\n",
       "      <td></td>\n",
       "      <td>RasterDataset</td>\n",
       "      <td>World_Mollweide</td>\n",
       "      <td>54009</td>\n",
       "      <td>1</td>\n",
       "      <td>6464</td>\n",
       "      <td>250.0</td>\n",
       "      <td>7204</td>\n",
       "      <td>250.0</td>\n",
       "      <td>-200.0</td>\n",
       "      <td>-12.746095</td>\n",
       "      <td>4.390086</td>\n",
       "      <td>10.154247</td>\n",
       "      <td>25.005682</td>\n",
       "      <td></td>\n",
       "      <td></td>\n",
       "      <td></td>\n",
       "    </tr>\n",
       "  </tbody>\n",
       "</table>\n",
       "</div>"
      ],
      "text/plain": [
       "   dir   layer_name layer_label description      data_type         crs_name  \\\n",
       "14      mli_slo.tif                          RasterDataset  World_Mollweide   \n",
       "\n",
       "   crs_code num_dimensions raster_width  raster_cell_width raster_height  \\\n",
       "14    54009              1         6464              250.0          7204   \n",
       "\n",
       "    raster_cell_height  raster_nodata_value    min_lon   max_lon    min_lat  \\\n",
       "14               250.0               -200.0 -12.746095  4.390086  10.154247   \n",
       "\n",
       "      max_lat source_name source_url data_process_summary  \n",
       "14  25.005682                                              "
      ]
     },
     "execution_count": 55,
     "metadata": {},
     "output_type": "execute_result"
    }
   ],
   "source": [
    "raster_slo_summary = layer_summaries[layer_summaries['layer_name'].str.contains(\"slo\")]\n",
    "raster_slo_summary"
   ]
  },
  {
   "cell_type": "code",
   "execution_count": 145,
   "metadata": {},
   "outputs": [
    {
     "data": {
      "image/png": "[encoded data removed]",
      "text/plain": [
       "<Figure size 720x720 with 1 Axes>"
      ]
     },
     "metadata": {
      "needs_background": "light"
     },
     "output_type": "display_data"
    }
   ],
   "source": [
    "fig, ax = plt.subplots(figsize=(10, 10))\n",
    "legend_patches = []\n",
    "for ix, summary in raster_gsmod_summary.iterrows():\n",
    "    array = arcpy.RasterToNumPyArray(arcpy.Raster(summary[\"layer_name\"]))\n",
    "    nodata_value = summary['raster_nodata_value']\n",
    "    if nodata_value != 0:\n",
    "        array = np.where(array == nodata_value, np.nan, array)\n",
    "    mean = np.nanmean(array)\n",
    "    std_range = np.nanstd(array) * 0.5\n",
    "    median = np.nanmedian(array)\n",
    "    max = np.nanmax(array)\n",
    "    min = np.nanmin(array)\n",
    "    my_cmap = plt.get_cmap('BrBG_r')   \n",
    "    ax.set_axis_off()\n",
    "    ax.imshow(array, alpha=1, cmap=my_cmap, vmin=mean-std_range, vmax=mean+std_range)\n",
    "    legend_patches.append(mpatches.Patch(color='gray', label=summary[\"layer_name\"]))\n",
    "lgd = ax.legend(handles=legend_patches, frameon=False, loc=('center left'), bbox_to_anchor=(1, 0.5))\n",
    "plt.savefig(RESULT_DIR + 'raster_gsmod_MLI.jpg', dpi=200, bbox_extra_artists=(lgd,), bbox_inches='tight')\n",
    "plt.show()\n",
    "plt.close(fig)"
   ]
  },
  {
   "cell_type": "markdown",
   "metadata": {},
   "source": [
    "### 3.1.10. upo15"
   ]
  },
  {
   "cell_type": "code",
   "execution_count": 115,
   "metadata": {},
   "outputs": [
    {
     "data": {
      "text/html": [
       "<div>\n",
       "<style scoped>\n",
       "    .dataframe tbody tr th:only-of-type {\n",
       "        vertical-align: middle;\n",
       "    }\n",
       "\n",
       "    .dataframe tbody tr th {\n",
       "        vertical-align: top;\n",
       "    }\n",
       "\n",
       "    .dataframe thead th {\n",
       "        text-align: right;\n",
       "    }\n",
       "</style>\n",
       "<table border=\"1\" class=\"dataframe\">\n",
       "  <thead>\n",
       "    <tr style=\"text-align: right;\">\n",
       "      <th></th>\n",
       "      <th>dir</th>\n",
       "      <th>layer_name</th>\n",
       "      <th>layer_label</th>\n",
       "      <th>description</th>\n",
       "      <th>data_type</th>\n",
       "      <th>crs_name</th>\n",
       "      <th>crs_code</th>\n",
       "      <th>num_dimensions</th>\n",
       "      <th>raster_width</th>\n",
       "      <th>raster_cell_width</th>\n",
       "      <th>raster_height</th>\n",
       "      <th>raster_cell_height</th>\n",
       "      <th>raster_nodata_value</th>\n",
       "      <th>min_lon</th>\n",
       "      <th>max_lon</th>\n",
       "      <th>min_lat</th>\n",
       "      <th>max_lat</th>\n",
       "      <th>source_name</th>\n",
       "      <th>source_url</th>\n",
       "      <th>data_process_summary</th>\n",
       "    </tr>\n",
       "  </thead>\n",
       "  <tbody>\n",
       "    <tr>\n",
       "      <th>15</th>\n",
       "      <td></td>\n",
       "      <td>mli_upo15.tif</td>\n",
       "      <td></td>\n",
       "      <td></td>\n",
       "      <td>RasterDataset</td>\n",
       "      <td>World_Mollweide</td>\n",
       "      <td>54009</td>\n",
       "      <td>1</td>\n",
       "      <td>6464</td>\n",
       "      <td>250.0</td>\n",
       "      <td>7204</td>\n",
       "      <td>250.0</td>\n",
       "      <td>-200.0</td>\n",
       "      <td>-12.746095</td>\n",
       "      <td>4.390086</td>\n",
       "      <td>10.154247</td>\n",
       "      <td>25.005682</td>\n",
       "      <td></td>\n",
       "      <td></td>\n",
       "      <td></td>\n",
       "    </tr>\n",
       "    <tr>\n",
       "      <th>16</th>\n",
       "      <td></td>\n",
       "      <td>mli_upo15_urban.tif</td>\n",
       "      <td></td>\n",
       "      <td></td>\n",
       "      <td>RasterDataset</td>\n",
       "      <td>World_Mollweide</td>\n",
       "      <td>54009</td>\n",
       "      <td>1</td>\n",
       "      <td>6464</td>\n",
       "      <td>250.0</td>\n",
       "      <td>7204</td>\n",
       "      <td>250.0</td>\n",
       "      <td>0.0</td>\n",
       "      <td>-12.746095</td>\n",
       "      <td>4.390086</td>\n",
       "      <td>10.154247</td>\n",
       "      <td>25.005682</td>\n",
       "      <td></td>\n",
       "      <td></td>\n",
       "      <td></td>\n",
       "    </tr>\n",
       "    <tr>\n",
       "      <th>17</th>\n",
       "      <td></td>\n",
       "      <td>mli_upo15_urban_hd.tif</td>\n",
       "      <td></td>\n",
       "      <td></td>\n",
       "      <td>RasterDataset</td>\n",
       "      <td>World_Mollweide</td>\n",
       "      <td>54009</td>\n",
       "      <td>1</td>\n",
       "      <td>6464</td>\n",
       "      <td>250.0</td>\n",
       "      <td>7204</td>\n",
       "      <td>250.0</td>\n",
       "      <td>0.0</td>\n",
       "      <td>-12.746095</td>\n",
       "      <td>4.390086</td>\n",
       "      <td>10.154247</td>\n",
       "      <td>25.005682</td>\n",
       "      <td></td>\n",
       "      <td></td>\n",
       "      <td></td>\n",
       "    </tr>\n",
       "  </tbody>\n",
       "</table>\n",
       "</div>"
      ],
      "text/plain": [
       "   dir              layer_name layer_label description      data_type  \\\n",
       "15               mli_upo15.tif                          RasterDataset   \n",
       "16         mli_upo15_urban.tif                          RasterDataset   \n",
       "17      mli_upo15_urban_hd.tif                          RasterDataset   \n",
       "\n",
       "           crs_name crs_code num_dimensions raster_width  raster_cell_width  \\\n",
       "15  World_Mollweide    54009              1         6464              250.0   \n",
       "16  World_Mollweide    54009              1         6464              250.0   \n",
       "17  World_Mollweide    54009              1         6464              250.0   \n",
       "\n",
       "   raster_height  raster_cell_height  raster_nodata_value    min_lon  \\\n",
       "15          7204               250.0               -200.0 -12.746095   \n",
       "16          7204               250.0                  0.0 -12.746095   \n",
       "17          7204               250.0                  0.0 -12.746095   \n",
       "\n",
       "     max_lon    min_lat    max_lat source_name source_url data_process_summary  \n",
       "15  4.390086  10.154247  25.005682                                              \n",
       "16  4.390086  10.154247  25.005682                                              \n",
       "17  4.390086  10.154247  25.005682                                              "
      ]
     },
     "execution_count": 115,
     "metadata": {},
     "output_type": "execute_result"
    }
   ],
   "source": [
    "raster_upo15_summary = layer_summaries[layer_summaries['layer_name'].str.contains(\"upo15\")]\n",
    "raster_upo15_summary"
   ]
  },
  {
   "cell_type": "code",
   "execution_count": 117,
   "metadata": {},
   "outputs": [
    {
     "data": {
      "image/png": "[encoded data removed]",
      "text/plain": [
       "<Figure size 720x720 with 1 Axes>"
      ]
     },
     "metadata": {
      "needs_background": "light"
     },
     "output_type": "display_data"
    }
   ],
   "source": [
    "fig, ax = plt.subplots(figsize=(10, 10))\n",
    "legend_patches = []\n",
    "for ix, summary in raster_upo15_summary.iterrows():\n",
    "    array = arcpy.RasterToNumPyArray(arcpy.Raster(summary[\"layer_name\"]))\n",
    "    nodata_value = summary['raster_nodata_value']\n",
    "    if nodata_value != 0:\n",
    "        array = np.where(array == nodata_value, np.nan, array)\n",
    "    mean = np.nanmean(array)\n",
    "    std_range = np.nanstd(array) * 1\n",
    "    my_cmap = matplotlib.colors.ListedColormap(['none', my_colors[ix%5]])    \n",
    "    ax.set_axis_off()\n",
    "    ax.imshow(array, alpha=0.5, cmap=my_cmap, vmin=mean-std_range, vmax=mean+std_range)\n",
    "    legend_patches.append(mpatches.Patch(color=my_colors[ix%5], label=summary[\"layer_name\"]))\n",
    "lgd = ax.legend(handles=legend_patches, frameon=False, loc=('center left'), bbox_to_anchor=(1, 0.5))\n",
    "plt.savefig(RESULT_DIR + 'raster_upo15_MLI.jpg', dpi=200, bbox_extra_artists=(lgd,), bbox_inches='tight')\n",
    "plt.show()\n",
    "plt.close(fig)"
   ]
  },
  {
   "cell_type": "markdown",
   "metadata": {},
   "source": [
    "### 3.1.11. wat"
   ]
  },
  {
   "cell_type": "code",
   "execution_count": 118,
   "metadata": {},
   "outputs": [
    {
     "data": {
      "text/html": [
       "<div>\n",
       "<style scoped>\n",
       "    .dataframe tbody tr th:only-of-type {\n",
       "        vertical-align: middle;\n",
       "    }\n",
       "\n",
       "    .dataframe tbody tr th {\n",
       "        vertical-align: top;\n",
       "    }\n",
       "\n",
       "    .dataframe thead th {\n",
       "        text-align: right;\n",
       "    }\n",
       "</style>\n",
       "<table border=\"1\" class=\"dataframe\">\n",
       "  <thead>\n",
       "    <tr style=\"text-align: right;\">\n",
       "      <th></th>\n",
       "      <th>dir</th>\n",
       "      <th>layer_name</th>\n",
       "      <th>layer_label</th>\n",
       "      <th>description</th>\n",
       "      <th>data_type</th>\n",
       "      <th>crs_name</th>\n",
       "      <th>crs_code</th>\n",
       "      <th>num_dimensions</th>\n",
       "      <th>raster_width</th>\n",
       "      <th>raster_cell_width</th>\n",
       "      <th>raster_height</th>\n",
       "      <th>raster_cell_height</th>\n",
       "      <th>raster_nodata_value</th>\n",
       "      <th>min_lon</th>\n",
       "      <th>max_lon</th>\n",
       "      <th>min_lat</th>\n",
       "      <th>max_lat</th>\n",
       "      <th>source_name</th>\n",
       "      <th>source_url</th>\n",
       "      <th>data_process_summary</th>\n",
       "    </tr>\n",
       "  </thead>\n",
       "  <tbody>\n",
       "    <tr>\n",
       "      <th>18</th>\n",
       "      <td></td>\n",
       "      <td>mli_wat.tif</td>\n",
       "      <td></td>\n",
       "      <td></td>\n",
       "      <td>RasterDataset</td>\n",
       "      <td>World_Mollweide</td>\n",
       "      <td>54009</td>\n",
       "      <td>1</td>\n",
       "      <td>6464</td>\n",
       "      <td>250.0</td>\n",
       "      <td>7204</td>\n",
       "      <td>250.0</td>\n",
       "      <td>-200.0</td>\n",
       "      <td>-12.746095</td>\n",
       "      <td>4.390086</td>\n",
       "      <td>10.154247</td>\n",
       "      <td>25.005682</td>\n",
       "      <td></td>\n",
       "      <td></td>\n",
       "      <td></td>\n",
       "    </tr>\n",
       "    <tr>\n",
       "      <th>19</th>\n",
       "      <td></td>\n",
       "      <td>mli_wat_lc.tif</td>\n",
       "      <td></td>\n",
       "      <td></td>\n",
       "      <td>RasterDataset</td>\n",
       "      <td>World_Mollweide</td>\n",
       "      <td>54009</td>\n",
       "      <td>1</td>\n",
       "      <td>6464</td>\n",
       "      <td>250.0</td>\n",
       "      <td>7204</td>\n",
       "      <td>250.0</td>\n",
       "      <td>-200.0</td>\n",
       "      <td>-12.746095</td>\n",
       "      <td>4.390086</td>\n",
       "      <td>10.154247</td>\n",
       "      <td>25.005682</td>\n",
       "      <td></td>\n",
       "      <td></td>\n",
       "      <td></td>\n",
       "    </tr>\n",
       "    <tr>\n",
       "      <th>20</th>\n",
       "      <td></td>\n",
       "      <td>mli_wat_p.tif</td>\n",
       "      <td></td>\n",
       "      <td></td>\n",
       "      <td>RasterDataset</td>\n",
       "      <td>World_Mollweide</td>\n",
       "      <td>54009</td>\n",
       "      <td>1</td>\n",
       "      <td>6464</td>\n",
       "      <td>250.0</td>\n",
       "      <td>7204</td>\n",
       "      <td>250.0</td>\n",
       "      <td>-200.0</td>\n",
       "      <td>-12.746095</td>\n",
       "      <td>4.390086</td>\n",
       "      <td>10.154247</td>\n",
       "      <td>25.005682</td>\n",
       "      <td></td>\n",
       "      <td></td>\n",
       "      <td></td>\n",
       "    </tr>\n",
       "  </tbody>\n",
       "</table>\n",
       "</div>"
      ],
      "text/plain": [
       "   dir      layer_name layer_label description      data_type  \\\n",
       "18         mli_wat.tif                          RasterDataset   \n",
       "19      mli_wat_lc.tif                          RasterDataset   \n",
       "20       mli_wat_p.tif                          RasterDataset   \n",
       "\n",
       "           crs_name crs_code num_dimensions raster_width  raster_cell_width  \\\n",
       "18  World_Mollweide    54009              1         6464              250.0   \n",
       "19  World_Mollweide    54009              1         6464              250.0   \n",
       "20  World_Mollweide    54009              1         6464              250.0   \n",
       "\n",
       "   raster_height  raster_cell_height  raster_nodata_value    min_lon  \\\n",
       "18          7204               250.0               -200.0 -12.746095   \n",
       "19          7204               250.0               -200.0 -12.746095   \n",
       "20          7204               250.0               -200.0 -12.746095   \n",
       "\n",
       "     max_lon    min_lat    max_lat source_name source_url data_process_summary  \n",
       "18  4.390086  10.154247  25.005682                                              \n",
       "19  4.390086  10.154247  25.005682                                              \n",
       "20  4.390086  10.154247  25.005682                                              "
      ]
     },
     "execution_count": 118,
     "metadata": {},
     "output_type": "execute_result"
    }
   ],
   "source": [
    "raster_wat_summary = layer_summaries[layer_summaries['layer_name'].str.contains(\"wat\")]\n",
    "raster_wat_summary"
   ]
  },
  {
   "cell_type": "code",
   "execution_count": 119,
   "metadata": {},
   "outputs": [
    {
     "data": {
      "image/png": "[encoded data removed]",
      "text/plain": [
       "<Figure size 720x720 with 1 Axes>"
      ]
     },
     "metadata": {
      "needs_background": "light"
     },
     "output_type": "display_data"
    }
   ],
   "source": [
    "fig, ax = plt.subplots(figsize=(10, 10))\n",
    "legend_patches = []\n",
    "for ix, summary in raster_wat_summary.iterrows():\n",
    "    array = arcpy.RasterToNumPyArray(arcpy.Raster(summary[\"layer_name\"]))\n",
    "    nodata_value = summary['raster_nodata_value']\n",
    "    if nodata_value != 0:\n",
    "        array = np.where(array == nodata_value, np.nan, array)\n",
    "    mean = np.nanmean(array)\n",
    "    std_range = np.nanstd(array) * 1\n",
    "    my_cmap = matplotlib.colors.ListedColormap(['none', my_colors[ix%5]])    \n",
    "    ax.set_axis_off()\n",
    "    ax.imshow(array, alpha=0.5, cmap=my_cmap, vmin=mean-std_range, vmax=mean+std_range)\n",
    "    legend_patches.append(mpatches.Patch(color=my_colors[ix%5], label=summary[\"layer_name\"]))\n",
    "lgd = ax.legend(handles=legend_patches, frameon=False, loc=('center left'), bbox_to_anchor=(1, 0.5))\n",
    "plt.savefig(RESULT_DIR + 'raster_wat_MLI.jpg', dpi=200, bbox_extra_artists=(lgd,), bbox_inches='tight')\n",
    "plt.show()\n",
    "plt.close(fig)"
   ]
  },
  {
   "cell_type": "markdown",
   "metadata": {},
   "source": [
    "### 3.1.12. pop"
   ]
  },
  {
   "cell_type": "code",
   "execution_count": 121,
   "metadata": {},
   "outputs": [
    {
     "data": {
      "text/html": [
       "<div>\n",
       "<style scoped>\n",
       "    .dataframe tbody tr th:only-of-type {\n",
       "        vertical-align: middle;\n",
       "    }\n",
       "\n",
       "    .dataframe tbody tr th {\n",
       "        vertical-align: top;\n",
       "    }\n",
       "\n",
       "    .dataframe thead th {\n",
       "        text-align: right;\n",
       "    }\n",
       "</style>\n",
       "<table border=\"1\" class=\"dataframe\">\n",
       "  <thead>\n",
       "    <tr style=\"text-align: right;\">\n",
       "      <th></th>\n",
       "      <th>dir</th>\n",
       "      <th>layer_name</th>\n",
       "      <th>layer_label</th>\n",
       "      <th>description</th>\n",
       "      <th>data_type</th>\n",
       "      <th>crs_name</th>\n",
       "      <th>crs_code</th>\n",
       "      <th>num_dimensions</th>\n",
       "      <th>raster_width</th>\n",
       "      <th>raster_cell_width</th>\n",
       "      <th>raster_height</th>\n",
       "      <th>raster_cell_height</th>\n",
       "      <th>raster_nodata_value</th>\n",
       "      <th>min_lon</th>\n",
       "      <th>max_lon</th>\n",
       "      <th>min_lat</th>\n",
       "      <th>max_lat</th>\n",
       "      <th>source_name</th>\n",
       "      <th>source_url</th>\n",
       "      <th>data_process_summary</th>\n",
       "    </tr>\n",
       "  </thead>\n",
       "  <tbody>\n",
       "    <tr>\n",
       "      <th>21</th>\n",
       "      <td></td>\n",
       "      <td>urban_pop.tif</td>\n",
       "      <td></td>\n",
       "      <td></td>\n",
       "      <td>RasterDataset</td>\n",
       "      <td>World_Mollweide</td>\n",
       "      <td>54009</td>\n",
       "      <td>1</td>\n",
       "      <td>6464</td>\n",
       "      <td>250.0</td>\n",
       "      <td>7204</td>\n",
       "      <td>250.0</td>\n",
       "      <td>-200.0</td>\n",
       "      <td>-12.746095</td>\n",
       "      <td>4.390086</td>\n",
       "      <td>10.154247</td>\n",
       "      <td>25.005682</td>\n",
       "      <td></td>\n",
       "      <td></td>\n",
       "      <td></td>\n",
       "    </tr>\n",
       "  </tbody>\n",
       "</table>\n",
       "</div>"
      ],
      "text/plain": [
       "   dir     layer_name layer_label description      data_type         crs_name  \\\n",
       "21      urban_pop.tif                          RasterDataset  World_Mollweide   \n",
       "\n",
       "   crs_code num_dimensions raster_width  raster_cell_width raster_height  \\\n",
       "21    54009              1         6464              250.0          7204   \n",
       "\n",
       "    raster_cell_height  raster_nodata_value    min_lon   max_lon    min_lat  \\\n",
       "21               250.0               -200.0 -12.746095  4.390086  10.154247   \n",
       "\n",
       "      max_lat source_name source_url data_process_summary  \n",
       "21  25.005682                                              "
      ]
     },
     "execution_count": 121,
     "metadata": {},
     "output_type": "execute_result"
    }
   ],
   "source": [
    "raster_pop_summary = layer_summaries[layer_summaries['layer_name'].str.contains(\"pop\")]\n",
    "raster_pop_summary"
   ]
  },
  {
   "cell_type": "code",
   "execution_count": 123,
   "metadata": {},
   "outputs": [
    {
     "data": {
      "image/png": "[encoded data removed]",
      "text/plain": [
       "<Figure size 720x720 with 1 Axes>"
      ]
     },
     "metadata": {
      "needs_background": "light"
     },
     "output_type": "display_data"
    }
   ],
   "source": [
    "fig, ax = plt.subplots(figsize=(10, 10))\n",
    "legend_patches = []\n",
    "for ix, summary in raster_pop_summary.iterrows():\n",
    "    array = arcpy.RasterToNumPyArray(arcpy.Raster(summary[\"layer_name\"]))\n",
    "    nodata_value = summary['raster_nodata_value']\n",
    "    if nodata_value != 0:\n",
    "        array = np.where(array == nodata_value, np.nan, array)\n",
    "    mean = np.nanmean(array)\n",
    "    std_range = np.nanstd(array) * 1\n",
    "    my_cmap = matplotlib.colors.ListedColormap(['none', my_colors[ix%5]])    \n",
    "    ax.set_axis_off()\n",
    "    ax.imshow(array, alpha=1, cmap=my_cmap, vmin=mean-std_range, vmax=mean+std_range)\n",
    "    legend_patches.append(mpatches.Patch(color=my_colors[ix%5], label=summary[\"layer_name\"]))\n",
    "lgd = ax.legend(handles=legend_patches, frameon=False, loc=('center left'), bbox_to_anchor=(1, 0.5))\n",
    "plt.savefig(RESULT_DIR + 'raster_pop_MLI.jpg', dpi=200, bbox_extra_artists=(lgd,), bbox_inches='tight')\n",
    "plt.show()\n",
    "plt.close(fig)"
   ]
  },
  {
   "cell_type": "code",
   "execution_count": null,
   "metadata": {},
   "outputs": [],
   "source": []
  },
  {
   "cell_type": "code",
   "execution_count": null,
   "metadata": {},
   "outputs": [],
   "source": []
  },
  {
   "cell_type": "code",
   "execution_count": null,
   "metadata": {},
   "outputs": [],
   "source": []
  },
  {
   "cell_type": "code",
   "execution_count": null,
   "metadata": {},
   "outputs": [],
   "source": []
  },
  {
   "cell_type": "code",
   "execution_count": null,
   "metadata": {},
   "outputs": [],
   "source": []
  },
  {
   "cell_type": "code",
   "execution_count": null,
   "metadata": {},
   "outputs": [],
   "source": []
  },
  {
   "cell_type": "code",
   "execution_count": null,
   "metadata": {},
   "outputs": [],
   "source": []
  },
  {
   "cell_type": "code",
   "execution_count": null,
   "metadata": {},
   "outputs": [],
   "source": []
  },
  {
   "cell_type": "code",
   "execution_count": 17,
   "metadata": {
    "pycharm": {
     "name": "#%%\n"
    }
   },
   "outputs": [],
   "source": [
    "rxr_layer = rxr.open_rasterio(DATA_DIR + 'mli_des.tif', masked=True)"
   ]
  },
  {
   "cell_type": "code",
   "execution_count": 18,
   "metadata": {
    "pycharm": {
     "name": "#%%\n"
    }
   },
   "outputs": [
    {
     "data": {
      "text/plain": [
       "(-1202000.0, 1253000.0, 414000.0, 3054000.0)"
      ]
     },
     "execution_count": 18,
     "metadata": {},
     "output_type": "execute_result"
    }
   ],
   "source": [
    "rxr_layer.rio.bounds()"
   ]
  },
  {
   "cell_type": "code",
   "execution_count": 19,
   "metadata": {
    "pycharm": {
     "name": "#%%\n"
    }
   },
   "outputs": [
    {
     "name": "stdout",
     "output_type": "stream",
     "text": [
      "The crs of your data is: ESRI:54009\n",
      "The nodatavalue of your data is: nan\n",
      "The shape of your data is: (1, 7204, 6464)\n",
      "The spatial resolution for your data is: (250.0, -250.0)\n",
      "The metadata for your data is: {'scale_factor': 1.0, 'add_offset': 0.0}\n"
     ]
    }
   ],
   "source": [
    "print(\"The crs of your data is:\", rxr_layer.rio.crs)\n",
    "print(\"The nodatavalue of your data is:\", rxr_layer.rio.nodata)\n",
    "print(\"The shape of your data is:\", rxr_layer.shape)\n",
    "print(\"The spatial resolution for your data is:\", rxr_layer.rio.resolution())\n",
    "print(\"The metadata for your data is:\", rxr_layer.attrs)"
   ]
  },
  {
   "cell_type": "code",
   "execution_count": 20,
   "metadata": {
    "pycharm": {
     "name": "#%%\n"
    }
   },
   "outputs": [
    {
     "data": {
      "text/plain": [
       "CRS.from_wkt('PROJCS[\"World_Mollweide\",GEOGCS[\"WGS 84\",DATUM[\"WGS_1984\",SPHEROID[\"WGS 84\",6378137,298.257223563,AUTHORITY[\"EPSG\",\"7030\"]],AUTHORITY[\"EPSG\",\"6326\"]],PRIMEM[\"Greenwich\",0],UNIT[\"Degree\",0.0174532925199433]],PROJECTION[\"Mollweide\"],PARAMETER[\"central_meridian\",0],PARAMETER[\"false_easting\",0],PARAMETER[\"false_northing\",0],UNIT[\"metre\",1,AUTHORITY[\"EPSG\",\"9001\"]],AXIS[\"Easting\",EAST],AXIS[\"Northing\",NORTH]]')"
      ]
     },
     "execution_count": 20,
     "metadata": {},
     "output_type": "execute_result"
    }
   ],
   "source": [
    "rxr_layer.rio.crs"
   ]
  },
  {
   "cell_type": "code",
   "execution_count": 22,
   "metadata": {
    "pycharm": {
     "name": "#%%\n"
    }
   },
   "outputs": [],
   "source": [
    "ras_layer = rasterio.open(DATA_DIR + 'mli_des.tif', masked=True)"
   ]
  },
  {
   "cell_type": "code",
   "execution_count": 54,
   "metadata": {
    "pycharm": {
     "name": "#%%\n"
    }
   },
   "outputs": [
    {
     "data": {
      "text/plain": [
       "BoundingBox(left=-1202000.0, bottom=1253000.0, right=414000.0, top=3054000.0)"
      ]
     },
     "execution_count": 54,
     "metadata": {},
     "output_type": "execute_result"
    }
   ],
   "source": [
    "bounds = ras_layer.bounds\n",
    "bounds"
   ]
  },
  {
   "cell_type": "code",
   "execution_count": 56,
   "metadata": {
    "pycharm": {
     "name": "#%%\n"
    }
   },
   "outputs": [
    {
     "data": {
      "text/plain": [
       "1253000.0"
      ]
     },
     "execution_count": 56,
     "metadata": {},
     "output_type": "execute_result"
    }
   ],
   "source": [
    "bounds[1]"
   ]
  },
  {
   "cell_type": "code",
   "execution_count": 58,
   "metadata": {
    "pycharm": {
     "name": "#%%\n"
    }
   },
   "outputs": [
    {
     "data": {
      "text/plain": [
       "(-1201875.0, 3053875.0)"
      ]
     },
     "execution_count": 58,
     "metadata": {},
     "output_type": "execute_result"
    }
   ],
   "source": [
    "rasterio.transform.xy(\n",
    "    ras_layer.transform,\n",
    "    0,\n",
    "    0,\n",
    "    offset='center',\n",
    ")"
   ]
  },
  {
   "cell_type": "code",
   "execution_count": 23,
   "metadata": {
    "pycharm": {
     "name": "#%%\n"
    }
   },
   "outputs": [
    {
     "data": {
      "text/plain": [
       "{'driver': 'GTiff',\n",
       " 'dtype': 'float32',\n",
       " 'nodata': -200.0,\n",
       " 'width': 6464,\n",
       " 'height': 7204,\n",
       " 'count': 1,\n",
       " 'crs': CRS.from_wkt('PROJCS[\"World_Mollweide\",GEOGCS[\"WGS 84\",DATUM[\"WGS_1984\",SPHEROID[\"WGS 84\",6378137,298.257223563,AUTHORITY[\"EPSG\",\"7030\"]],AUTHORITY[\"EPSG\",\"6326\"]],PRIMEM[\"Greenwich\",0],UNIT[\"Degree\",0.0174532925199433]],PROJECTION[\"Mollweide\"],PARAMETER[\"central_meridian\",0],PARAMETER[\"false_easting\",0],PARAMETER[\"false_northing\",0],UNIT[\"metre\",1,AUTHORITY[\"EPSG\",\"9001\"]],AXIS[\"Easting\",EAST],AXIS[\"Northing\",NORTH]]'),\n",
       " 'transform': Affine(250.0, 0.0, -1202000.0,\n",
       "        0.0, -250.0, 3054000.0)}"
      ]
     },
     "execution_count": 23,
     "metadata": {},
     "output_type": "execute_result"
    }
   ],
   "source": [
    "ras_layer.meta"
   ]
  },
  {
   "cell_type": "code",
   "execution_count": 49,
   "metadata": {
    "pycharm": {
     "name": "#%%\n"
    }
   },
   "outputs": [
    {
     "data": {
      "text/plain": [
       "CRS.from_wkt('PROJCS[\"World_Mollweide\",GEOGCS[\"WGS 84\",DATUM[\"WGS_1984\",SPHEROID[\"WGS 84\",6378137,298.257223563,AUTHORITY[\"EPSG\",\"7030\"]],AUTHORITY[\"EPSG\",\"6326\"]],PRIMEM[\"Greenwich\",0],UNIT[\"Degree\",0.0174532925199433]],PROJECTION[\"Mollweide\"],PARAMETER[\"central_meridian\",0],PARAMETER[\"false_easting\",0],PARAMETER[\"false_northing\",0],UNIT[\"metre\",1,AUTHORITY[\"EPSG\",\"9001\"]],AXIS[\"Easting\",EAST],AXIS[\"Northing\",NORTH]]')"
      ]
     },
     "execution_count": 49,
     "metadata": {},
     "output_type": "execute_result"
    }
   ],
   "source": [
    "ras_layer.crs"
   ]
  },
  {
   "cell_type": "code",
   "execution_count": 52,
   "metadata": {
    "pycharm": {
     "name": "#%%\n"
    }
   },
   "outputs": [
    {
     "data": {
      "text/plain": [
       "('ESRI', '54009')"
      ]
     },
     "execution_count": 52,
     "metadata": {},
     "output_type": "execute_result"
    }
   ],
   "source": [
    "ras_layer.crs.to_authority()"
   ]
  },
  {
   "cell_type": "code",
   "execution_count": 33,
   "metadata": {
    "pycharm": {
     "name": "#%%\n"
    }
   },
   "outputs": [
    {
     "data": {
      "text/plain": [
       "'metre'"
      ]
     },
     "execution_count": 33,
     "metadata": {},
     "output_type": "execute_result"
    }
   ],
   "source": [
    "ras_layer.crs.linear_units"
   ]
  },
  {
   "cell_type": "code",
   "execution_count": 30,
   "metadata": {
    "pycharm": {
     "name": "#%%\n"
    }
   },
   "outputs": [
    {
     "data": {
      "text/plain": [
       "7204"
      ]
     },
     "execution_count": 30,
     "metadata": {},
     "output_type": "execute_result"
    }
   ],
   "source": [
    "ras_layer.height"
   ]
  },
  {
   "cell_type": "code",
   "execution_count": 59,
   "metadata": {
    "pycharm": {
     "name": "#%%\n"
    }
   },
   "outputs": [
    {
     "data": {
      "text/plain": [
       "1"
      ]
     },
     "execution_count": 59,
     "metadata": {},
     "output_type": "execute_result"
    }
   ],
   "source": [
    "ras_layer.count"
   ]
  },
  {
   "cell_type": "code",
   "execution_count": 9,
   "metadata": {
    "pycharm": {
     "name": "#%%\n"
    }
   },
   "outputs": [],
   "source": [
    "raster = rasterio.open(DATA_DIR + 'NO_DATA_mli_upo15.tif')"
   ]
  },
  {
   "cell_type": "code",
   "execution_count": 10,
   "metadata": {
    "pycharm": {
     "name": "#%%\n"
    }
   },
   "outputs": [
    {
     "data": {
      "text/plain": [
       "{'driver': 'GTiff',\n",
       " 'dtype': 'float32',\n",
       " 'nodata': -200.0,\n",
       " 'width': 6464,\n",
       " 'height': 7204,\n",
       " 'count': 1,\n",
       " 'crs': CRS.from_wkt('PROJCS[\"World_Mollweide\",GEOGCS[\"WGS 84\",DATUM[\"WGS_1984\",SPHEROID[\"WGS 84\",6378137,298.257223563,AUTHORITY[\"EPSG\",\"7030\"]],AUTHORITY[\"EPSG\",\"6326\"]],PRIMEM[\"Greenwich\",0],UNIT[\"Degree\",0.0174532925199433]],PROJECTION[\"Mollweide\"],PARAMETER[\"central_meridian\",0],PARAMETER[\"false_easting\",0],PARAMETER[\"false_northing\",0],UNIT[\"metre\",1,AUTHORITY[\"EPSG\",\"9001\"]],AXIS[\"Easting\",EAST],AXIS[\"Northing\",NORTH]]'),\n",
       " 'transform': Affine(250.0, 0.0, -1202000.0,\n",
       "        0.0, -250.0, 3054000.0)}"
      ]
     },
     "execution_count": 10,
     "metadata": {},
     "output_type": "execute_result"
    }
   ],
   "source": [
    "raster.meta"
   ]
  },
  {
   "cell_type": "code",
   "execution_count": 15,
   "metadata": {
    "pycharm": {
     "name": "#%%\n"
    }
   },
   "outputs": [
    {
     "data": {
      "text/plain": [
       "'PROJCS[\"World_Mollweide\",GEOGCS[\"WGS 84\",DATUM[\"WGS_1984\",SPHEROID[\"WGS 84\",6378137,298.257223563,AUTHORITY[\"EPSG\",\"7030\"]],AUTHORITY[\"EPSG\",\"6326\"]],PRIMEM[\"Greenwich\",0],UNIT[\"Degree\",0.0174532925199433]],PROJECTION[\"Mollweide\"],PARAMETER[\"central_meridian\",0],PARAMETER[\"false_easting\",0],PARAMETER[\"false_northing\",0],UNIT[\"metre\",1,AUTHORITY[\"EPSG\",\"9001\"]],AXIS[\"Easting\",EAST],AXIS[\"Northing\",NORTH]]'"
      ]
     },
     "execution_count": 15,
     "metadata": {},
     "output_type": "execute_result"
    }
   ],
   "source": [
    "raster.crs.wkt"
   ]
  },
  {
   "cell_type": "code",
   "execution_count": 66,
   "metadata": {
    "pycharm": {
     "name": "#%%\n"
    }
   },
   "outputs": [],
   "source": [
    "raster = rasterio.open(DATA_DIR + 'mli_cpo15.tif')"
   ]
  },
  {
   "cell_type": "code",
   "execution_count": 68,
   "metadata": {
    "pycharm": {
     "name": "#%%\n"
    }
   },
   "outputs": [
    {
     "data": {
      "text/plain": [
       "{'driver': 'GTiff',\n",
       " 'dtype': 'float32',\n",
       " 'nodata': -200.0,\n",
       " 'width': 6464,\n",
       " 'height': 7204,\n",
       " 'count': 1,\n",
       " 'crs': CRS.from_wkt('PROJCS[\"World_Mollweide\",GEOGCS[\"WGS 84\",DATUM[\"WGS_1984\",SPHEROID[\"WGS 84\",6378137,298.257223563,AUTHORITY[\"EPSG\",\"7030\"]],AUTHORITY[\"EPSG\",\"6326\"]],PRIMEM[\"Greenwich\",0],UNIT[\"Degree\",0.0174532925199433]],PROJECTION[\"Mollweide\"],PARAMETER[\"central_meridian\",0],PARAMETER[\"false_easting\",0],PARAMETER[\"false_northing\",0],UNIT[\"metre\",1,AUTHORITY[\"EPSG\",\"9001\"]],AXIS[\"Easting\",EAST],AXIS[\"Northing\",NORTH]]'),\n",
       " 'transform': Affine(250.0, 0.0, -1202000.0,\n",
       "        0.0, -250.0, 3054000.0)}"
      ]
     },
     "execution_count": 68,
     "metadata": {},
     "output_type": "execute_result"
    }
   ],
   "source": [
    "raster.meta"
   ]
  },
  {
   "cell_type": "code",
   "execution_count": 88,
   "metadata": {
    "pycharm": {
     "name": "#%%\n"
    }
   },
   "outputs": [
    {
     "data": {
      "image/png": "[encoded data removed]",
      "text/plain": [
       "<Figure size 432x288 with 1 Axes>"
      ]
     },
     "metadata": {
      "needs_background": "light"
     },
     "output_type": "display_data"
    }
   ],
   "source": [
    "norm = colors.Normalize(vmin=np.min(array), vmax=np.max(array))\n",
    "plt.imshow(array, cmap='terrain', norm=norm)\n",
    "plt.show()"
   ]
  },
  {
   "cell_type": "code",
   "execution_count": 60,
   "metadata": {
    "pycharm": {
     "name": "#%%\n"
    }
   },
   "outputs": [
    {
     "data": {
      "text/plain": [
       "{'driver': 'GTiff',\n",
       " 'dtype': 'float32',\n",
       " 'nodata': -200.0,\n",
       " 'width': 6464,\n",
       " 'height': 7204,\n",
       " 'count': 1,\n",
       " 'crs': CRS.from_wkt('PROJCS[\"World_Mollweide\",GEOGCS[\"WGS 84\",DATUM[\"WGS_1984\",SPHEROID[\"WGS 84\",6378137,298.257223563,AUTHORITY[\"EPSG\",\"7030\"]],AUTHORITY[\"EPSG\",\"6326\"]],PRIMEM[\"Greenwich\",0],UNIT[\"Degree\",0.0174532925199433]],PROJECTION[\"Mollweide\"],PARAMETER[\"central_meridian\",0],PARAMETER[\"false_easting\",0],PARAMETER[\"false_northing\",0],UNIT[\"metre\",1,AUTHORITY[\"EPSG\",\"9001\"]],AXIS[\"Easting\",EAST],AXIS[\"Northing\",NORTH]]'),\n",
       " 'transform': Affine(250.0, 0.0, -1202000.0,\n",
       "        0.0, -250.0, 3054000.0)}"
      ]
     },
     "execution_count": 60,
     "metadata": {},
     "output_type": "execute_result"
    }
   ],
   "source": [
    "raster.meta"
   ]
  }
 ],
 "metadata": {
  "interpreter": {
   "hash": "fc29872627f1ea168aa7d5a135a97d2361edb09355bc47beda84072435203d26"
  },
  "kernelspec": {
   "display_name": "Python 3",
   "language": "python",
   "name": "python3"
  },
  "language_info": {
   "codemirror_mode": {
    "name": "ipython",
    "version": 3
   },
   "file_extension": ".py",
   "mimetype": "text/x-python",
   "name": "python",
   "nbconvert_exporter": "python",
   "pygments_lexer": "ipython3",
   "version": "3.7.1"
  }
 },
 "nbformat": 4,
 "nbformat_minor": 1
}
