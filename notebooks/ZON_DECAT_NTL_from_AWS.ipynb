{
 "cells": [
  {
   "cell_type": "markdown",
   "metadata": {},
   "source": [
    "# Analyzing VIIRS imagery in AWS\n",
    "\n",
    "This notebook focuses on two nighttime lights analyses: zonal statistics and timelapse mapping"
   ]
  },
  {
   "cell_type": "code",
   "execution_count": 1,
   "metadata": {},
   "outputs": [
    {
     "name": "stderr",
     "output_type": "stream",
     "text": [
      "/home/wb411133/.conda/envs/geog/lib/python3.7/site-packages/geopandas/_compat.py:88: UserWarning: The Shapely GEOS version (3.7.1-CAPI-1.11.1 0) is incompatible with the GEOS version PyGEOS was compiled with (3.9.0-CAPI-1.16.2). Conversions between both will be slow.\n",
      "  shapely_geos_version, geos_capi_version_string\n"
     ]
    }
   ],
   "source": [
    "import sys, os, importlib, json\n",
    "import rasterio\n",
    "import imageio\n",
    "\n",
    "import pandas as pd\n",
    "import geopandas as gpd\n",
    "\n",
    "from shapely.geometry import shape\n",
    "from rasterio import MemoryFile\n",
    "from contextlib import contextmanager\n",
    "\n",
    "sys.path.append(\"../src\")\n",
    "\n",
    "import GOSTRocks.rasterMisc as rMisc\n",
    "from GOSTRocks.misc import tPrint\n"
   ]
  },
  {
   "cell_type": "markdown",
   "metadata": {},
   "source": [
    "### Zonal statistics"
   ]
  },
  {
   "cell_type": "code",
   "execution_count": null,
   "metadata": {
    "scrolled": true
   },
   "outputs": [],
   "source": [
    "# Get a list of the VIIRS images in S3. This example leverages the GOST teams S3 bucket\n",
    "s3_base = 's3://wbgdecinternal-ntl/'\n",
    "ntl_file_list = \"/home/wb411133/temp/YEM/AWS_NTL_S3.txt\"\n",
    "focal_tile = \"TILE5\"\n",
    "temp_folder = \"/home/wb411133/temp\"\n",
    "viirs_folder = \"/home/wb411133/temp/URY/NTL_Harmonizer\"\n",
    "dmsp_folder = os.path.join(viirs_folder, \n",
    "if not os.path.exists(viirs_folder):\n",
    "    os.makedirs(viirs_folder)\n",
    "\n",
    "out_map_folder = os.path.join(viirs_folder, \"VIIRS_MAPS\")\n",
    "if not os.path.exists(out_map_folder):\n",
    "    os.makedirs(out_map_folder)\n",
    "\n",
    "\n",
    "all_files = []\n",
    "with open(ntl_file_list, 'r') as in_aws:\n",
    "    for line in in_aws:\n",
    "        if focal_tile in line and 'avg_rade9' in line:\n",
    "            all_files.append(os.path.join(s3_base, line.split(\" \")[-1][:-1]))\n",
    "            \n",
    "all_files[:5]"
   ]
  },
  {
   "cell_type": "code",
   "execution_count": null,
   "metadata": {},
   "outputs": [],
   "source": [
    "# define area using shape from geojson.io\n",
    "aoi = {\n",
    "  \"type\": \"FeatureCollection\",\n",
    "  \"features\": [\n",
    "    {\n",
    "      \"type\": \"Feature\",\n",
    "      \"properties\": {},\n",
    "      \"geometry\": {\n",
    "        \"type\": \"Polygon\",\n",
    "        \"coordinates\": [\n",
    "          [\n",
    "            [\n",
    "              38.38417053222656,\n",
    "              6.9795913142033426\n",
    "            ],\n",
    "            [\n",
    "              38.56544494628906,\n",
    "              6.9795913142033426\n",
    "            ],\n",
    "            [\n",
    "              38.56544494628906,\n",
    "              7.122696277518295\n",
    "            ],\n",
    "            [\n",
    "              38.38417053222656,\n",
    "              7.122696277518295\n",
    "            ],\n",
    "            [\n",
    "              38.38417053222656,\n",
    "              6.9795913142033426\n",
    "            ]\n",
    "          ]\n",
    "        ]\n",
    "      }\n",
    "    }\n",
    "  ]\n",
    "}\n",
    "\n",
    "temp_file = os.path.join(temp_folder, \"temp.geojson\")\n",
    "with open(temp_file, 'w') as outfile:\n",
    "    json.dump(aoi, outfile)\n",
    "inD = gpd.read_file(temp_file)\n",
    "inD['ID'] = 0\n",
    "os.remove(temp_file)"
   ]
  },
  {
   "cell_type": "code",
   "execution_count": null,
   "metadata": {
    "scrolled": true
   },
   "outputs": [],
   "source": [
    "# Run zonal statistics against the define admin (in_zones)\n",
    "#in_zones = \"/home/public/Data/GLOBAL/ADMIN/Admin0_Polys.shp\"\n",
    "#inD = gpd.read_file(in_zones)\n",
    "\n",
    "for cur_tif in all_files:\n",
    "    res = rMisc.zonalStats(inD, cur_tif, minVal=0.05)\n",
    "    res = pd.DataFrame(res,columns=['SUM','MIN','MAX','MEAN'])\n",
    "    inD[cur_tif.split(\"/\")[5]] = res['SUM']\n",
    "    tPrint(cur_tif)\n",
    "    \n",
    "pd.DataFrame(inD.drop(['geometry'], axis=1)).to_csv(f\"{in_zones[:-4]}_NTL.csv\")"
   ]
  },
  {
   "cell_type": "code",
   "execution_count": null,
   "metadata": {},
   "outputs": [],
   "source": [
    "in_zones = \"/home/public/Data/GLOBAL/ADMIN/Admin0_Polys.shp\"\n",
    "inD = gpd.read_file(in_zones)\n",
    "inD = inD.loc[inD['ISO3'] == \"URY\"]\n",
    "inD = inD.to_crs(\"epsg:4326\")\n",
    "\n",
    "# If you want to clip out the raster data for the below mapping, run this block\n",
    "for cur_tif in all_files:\n",
    "    file = f'{cur_tif.split(\"/\")[5]}.tif'\n",
    "    out_file = os.path.join(os.path.join(viirs_folder, \"%s\" % file))\n",
    "    curR = rasterio.open(cur_tif)\n",
    "    if not os.path.exists(out_file):\n",
    "        rMisc.clipRaster(curR, inD, out_file)"
   ]
  },
  {
   "cell_type": "code",
   "execution_count": null,
   "metadata": {},
   "outputs": [],
   "source": [
    "# Clip out DMSP datasets\n",
    "dmsp_folder = \"/home/public/Data/GLOBAL/NighttimeLights/DMSP/\"\n",
    "for dmsp_file in os.listdir(dmsp_folder):\n",
    "    curR = rasterio.open(os.path.join(dmsp_folder, dmsp_file))\n",
    "    out_file = os.path.join(os.path.join(viirs_folder, \"%s\" % file))\n",
    "    "
   ]
  },
  {
   "cell_type": "code",
   "execution_count": null,
   "metadata": {},
   "outputs": [],
   "source": []
  },
  {
   "cell_type": "markdown",
   "metadata": {},
   "source": [
    "# Generate maps automatically"
   ]
  },
  {
   "cell_type": "code",
   "execution_count": null,
   "metadata": {},
   "outputs": [],
   "source": [
    "import matplotlib.pyplot as plt\n",
    "from matplotlib.colors import ListedColormap, BoundaryNorm\n",
    "import numpy as np\n",
    "import xarray as xr\n",
    "import rioxarray as rxr\n",
    "#import earthpy as et\n",
    "#import earthpy.plot as ep\n",
    "\n",
    "# Prettier plotting with seaborn\n",
    "import seaborn as sns\n",
    "sns.set(font_scale=1.5, style=\"whitegrid\")\n",
    "\n",
    "all_files = [os.path.join(viirs_folder, x) for x in os.listdir(viirs_folder)]\n",
    "all_files.sort()\n",
    "all_files[:5]"
   ]
  },
  {
   "cell_type": "code",
   "execution_count": null,
   "metadata": {},
   "outputs": [],
   "source": [
    "def map_viirs(cur_file, out_file=''):\n",
    "    ''' create map of viirs data\n",
    "    \n",
    "    INPUT\n",
    "        cur_file [string] - path to input geotif\n",
    "        [optional] out_file [string] - path to create output image\n",
    "    '''\n",
    "    # extract the year from the file name\n",
    "    year = cur_file.split(\"_\")[-1][:4]\n",
    "    \n",
    "    # Open the VIIRS data and reclassify \n",
    "    inR = rasterio.open(cur_file)\n",
    "    inD = inR.read()\n",
    "    ### TODO: play with class_bins to change the colour scale\n",
    "    class_bins = [-10,0.5,1,2,3,5,10,15,20,30,40,50]\n",
    "    inC = xr.apply_ufunc(np.digitize,inD,class_bins)\n",
    "\n",
    "    # Plot the figure, remove grid and ticks\n",
    "    fig = plt.figure()\n",
    "    ax = fig.add_subplot(111)\n",
    "    ax.grid(False)\n",
    "    ax.set_xticks([])\n",
    "    ax.set_yticks([])\n",
    "    \n",
    "    ### TODO: add the year to the map, may need to experiment with the location depend on geography\n",
    "    ax.text(0,5, year, fontsize=40, color='white')\n",
    "\n",
    "    plt.margins(0,0)\n",
    "    if out_file != '':\n",
    "        #plt.imsave(out_file, inC[0,:,:], cmap=plt.get_cmap('magma'))\n",
    "        plt.imshow(inC[0,:,:], cmap=plt.get_cmap('magma'))\n",
    "        fig.savefig(out_file, dpi=100, bbox_inches='tight', pad_inches=0)\n",
    "    else:\n",
    "        # https://matplotlib.org/stable/tutorials/colors/colormaps.html\n",
    "        plt.imshow(inC[0,:,:], cmap=plt.get_cmap('magma'))\n",
    "\n",
    "cur_file = all_files[0]\n",
    "out_file = os.path.join(out_map_folder, os.path.basename(cur_file))\n",
    "\n",
    "print(out_file)\n",
    "map_viirs(cur_file, '')\n",
    "#map_viirs(cur_file, out_file)"
   ]
  },
  {
   "cell_type": "code",
   "execution_count": null,
   "metadata": {},
   "outputs": [],
   "source": [
    "for cur_file in all_files:\n",
    "    out_file = os.path.join(out_map_folder, os.path.basename(cur_file))\n",
    "    map_viirs(cur_file, out_file)"
   ]
  },
  {
   "cell_type": "code",
   "execution_count": null,
   "metadata": {},
   "outputs": [],
   "source": [
    "kwargs = {'duration':0.3}\n",
    "images = []\n",
    "all_tifs = [os.path.join(out_map_folder, x) for x in os.listdir(out_map_folder)]\n",
    "all_tifs.sort()\n",
    "for filename in all_tifs:\n",
    "    images.append(imageio.imread(filename))\n",
    "    \n",
    "imageio.mimsave(\"%s_timelapse.gif\" % out_map_folder, images, **kwargs)"
   ]
  },
  {
   "cell_type": "code",
   "execution_count": null,
   "metadata": {},
   "outputs": [],
   "source": [
    "\"%s_timelapse.gif\" % out_map_folder"
   ]
  },
  {
   "cell_type": "code",
   "execution_count": null,
   "metadata": {},
   "outputs": [],
   "source": []
  }
 ],
 "metadata": {
  "kernelspec": {
   "display_name": "Python (geog)",
   "language": "python",
   "name": "geog"
  },
  "language_info": {
   "codemirror_mode": {
    "name": "ipython",
    "version": 3
   },
   "file_extension": ".py",
   "mimetype": "text/x-python",
   "name": "python",
   "nbconvert_exporter": "python",
   "pygments_lexer": "ipython3",
   "version": "3.9.7"
  }
 },
 "nbformat": 4,
 "nbformat_minor": 2
}
